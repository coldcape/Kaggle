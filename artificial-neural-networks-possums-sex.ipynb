{
 "cells": [
  {
   "cell_type": "code",
   "execution_count": 1,
   "id": "07931c9b",
   "metadata": {
    "_cell_guid": "b1076dfc-b9ad-4769-8c92-a6c4dae69d19",
    "_uuid": "8f2839f25d086af736a60e9eeb907d3b93b6e0e5",
    "execution": {
     "iopub.execute_input": "2022-11-19T02:05:21.956725Z",
     "iopub.status.busy": "2022-11-19T02:05:21.956206Z",
     "iopub.status.idle": "2022-11-19T02:05:21.974325Z",
     "shell.execute_reply": "2022-11-19T02:05:21.973112Z"
    },
    "papermill": {
     "duration": 0.028089,
     "end_time": "2022-11-19T02:05:21.977180",
     "exception": false,
     "start_time": "2022-11-19T02:05:21.949091",
     "status": "completed"
    },
    "tags": []
   },
   "outputs": [
    {
     "name": "stdout",
     "output_type": "stream",
     "text": [
      "/kaggle/input/openintro-possum/possum.csv\n"
     ]
    }
   ],
   "source": [
    "# This Python 3 environment comes with many helpful analytics libraries installed\n",
    "# It is defined by the kaggle/python Docker image: https://github.com/kaggle/docker-python\n",
    "# For example, here's several helpful packages to load\n",
    "\n",
    "import numpy as np # linear algebra\n",
    "import pandas as pd # data processing, CSV file I/O (e.g. pd.read_csv)\n",
    "\n",
    "# Input data files are available in the read-only \"../input/\" directory\n",
    "# For example, running this (by clicking run or pressing Shift+Enter) will list all files under the input directory\n",
    "\n",
    "import os\n",
    "for dirname, _, filenames in os.walk('/kaggle/input'):\n",
    "    for filename in filenames:\n",
    "        print(os.path.join(dirname, filename))\n",
    "\n",
    "# You can write up to 20GB to the current directory (/kaggle/working/) that gets preserved as output when you create a version using \"Save & Run All\" \n",
    "# You can also write temporary files to /kaggle/temp/, but they won't be saved outside of the current session"
   ]
  },
  {
   "cell_type": "code",
   "execution_count": 2,
   "id": "25b243df",
   "metadata": {
    "execution": {
     "iopub.execute_input": "2022-11-19T02:05:21.989956Z",
     "iopub.status.busy": "2022-11-19T02:05:21.989342Z",
     "iopub.status.idle": "2022-11-19T02:05:22.034090Z",
     "shell.execute_reply": "2022-11-19T02:05:22.032763Z"
    },
    "papermill": {
     "duration": 0.053002,
     "end_time": "2022-11-19T02:05:22.035927",
     "exception": false,
     "start_time": "2022-11-19T02:05:21.982925",
     "status": "completed"
    },
    "tags": []
   },
   "outputs": [
    {
     "data": {
      "text/html": [
       "<div>\n",
       "<style scoped>\n",
       "    .dataframe tbody tr th:only-of-type {\n",
       "        vertical-align: middle;\n",
       "    }\n",
       "\n",
       "    .dataframe tbody tr th {\n",
       "        vertical-align: top;\n",
       "    }\n",
       "\n",
       "    .dataframe thead th {\n",
       "        text-align: right;\n",
       "    }\n",
       "</style>\n",
       "<table border=\"1\" class=\"dataframe\">\n",
       "  <thead>\n",
       "    <tr style=\"text-align: right;\">\n",
       "      <th></th>\n",
       "      <th>case</th>\n",
       "      <th>site</th>\n",
       "      <th>Pop</th>\n",
       "      <th>sex</th>\n",
       "      <th>age</th>\n",
       "      <th>hdlngth</th>\n",
       "      <th>skullw</th>\n",
       "      <th>totlngth</th>\n",
       "      <th>taill</th>\n",
       "      <th>footlgth</th>\n",
       "      <th>earconch</th>\n",
       "      <th>eye</th>\n",
       "      <th>chest</th>\n",
       "      <th>belly</th>\n",
       "    </tr>\n",
       "  </thead>\n",
       "  <tbody>\n",
       "    <tr>\n",
       "      <th>0</th>\n",
       "      <td>1</td>\n",
       "      <td>1</td>\n",
       "      <td>Vic</td>\n",
       "      <td>m</td>\n",
       "      <td>8.0</td>\n",
       "      <td>94.1</td>\n",
       "      <td>60.4</td>\n",
       "      <td>89.0</td>\n",
       "      <td>36.0</td>\n",
       "      <td>74.5</td>\n",
       "      <td>54.5</td>\n",
       "      <td>15.2</td>\n",
       "      <td>28.0</td>\n",
       "      <td>36.0</td>\n",
       "    </tr>\n",
       "    <tr>\n",
       "      <th>1</th>\n",
       "      <td>2</td>\n",
       "      <td>1</td>\n",
       "      <td>Vic</td>\n",
       "      <td>f</td>\n",
       "      <td>6.0</td>\n",
       "      <td>92.5</td>\n",
       "      <td>57.6</td>\n",
       "      <td>91.5</td>\n",
       "      <td>36.5</td>\n",
       "      <td>72.5</td>\n",
       "      <td>51.2</td>\n",
       "      <td>16.0</td>\n",
       "      <td>28.5</td>\n",
       "      <td>33.0</td>\n",
       "    </tr>\n",
       "    <tr>\n",
       "      <th>2</th>\n",
       "      <td>3</td>\n",
       "      <td>1</td>\n",
       "      <td>Vic</td>\n",
       "      <td>f</td>\n",
       "      <td>6.0</td>\n",
       "      <td>94.0</td>\n",
       "      <td>60.0</td>\n",
       "      <td>95.5</td>\n",
       "      <td>39.0</td>\n",
       "      <td>75.4</td>\n",
       "      <td>51.9</td>\n",
       "      <td>15.5</td>\n",
       "      <td>30.0</td>\n",
       "      <td>34.0</td>\n",
       "    </tr>\n",
       "    <tr>\n",
       "      <th>3</th>\n",
       "      <td>4</td>\n",
       "      <td>1</td>\n",
       "      <td>Vic</td>\n",
       "      <td>f</td>\n",
       "      <td>6.0</td>\n",
       "      <td>93.2</td>\n",
       "      <td>57.1</td>\n",
       "      <td>92.0</td>\n",
       "      <td>38.0</td>\n",
       "      <td>76.1</td>\n",
       "      <td>52.2</td>\n",
       "      <td>15.2</td>\n",
       "      <td>28.0</td>\n",
       "      <td>34.0</td>\n",
       "    </tr>\n",
       "    <tr>\n",
       "      <th>4</th>\n",
       "      <td>5</td>\n",
       "      <td>1</td>\n",
       "      <td>Vic</td>\n",
       "      <td>f</td>\n",
       "      <td>2.0</td>\n",
       "      <td>91.5</td>\n",
       "      <td>56.3</td>\n",
       "      <td>85.5</td>\n",
       "      <td>36.0</td>\n",
       "      <td>71.0</td>\n",
       "      <td>53.2</td>\n",
       "      <td>15.1</td>\n",
       "      <td>28.5</td>\n",
       "      <td>33.0</td>\n",
       "    </tr>\n",
       "  </tbody>\n",
       "</table>\n",
       "</div>"
      ],
      "text/plain": [
       "   case  site  Pop sex  age  hdlngth  skullw  totlngth  taill  footlgth  \\\n",
       "0     1     1  Vic   m  8.0     94.1    60.4      89.0   36.0      74.5   \n",
       "1     2     1  Vic   f  6.0     92.5    57.6      91.5   36.5      72.5   \n",
       "2     3     1  Vic   f  6.0     94.0    60.0      95.5   39.0      75.4   \n",
       "3     4     1  Vic   f  6.0     93.2    57.1      92.0   38.0      76.1   \n",
       "4     5     1  Vic   f  2.0     91.5    56.3      85.5   36.0      71.0   \n",
       "\n",
       "   earconch   eye  chest  belly  \n",
       "0      54.5  15.2   28.0   36.0  \n",
       "1      51.2  16.0   28.5   33.0  \n",
       "2      51.9  15.5   30.0   34.0  \n",
       "3      52.2  15.2   28.0   34.0  \n",
       "4      53.2  15.1   28.5   33.0  "
      ]
     },
     "execution_count": 2,
     "metadata": {},
     "output_type": "execute_result"
    }
   ],
   "source": [
    "# Loading the datasit through pandas\n",
    "dataset = pd.read_csv('../input/openintro-possum/possum.csv')\n",
    "\n",
    "# Showing the first five rows in the dataset\n",
    "dataset.head()"
   ]
  },
  {
   "cell_type": "code",
   "execution_count": 3,
   "id": "2187f1ff",
   "metadata": {
    "execution": {
     "iopub.execute_input": "2022-11-19T02:05:22.046786Z",
     "iopub.status.busy": "2022-11-19T02:05:22.046469Z",
     "iopub.status.idle": "2022-11-19T02:05:22.071180Z",
     "shell.execute_reply": "2022-11-19T02:05:22.070247Z"
    },
    "papermill": {
     "duration": 0.032497,
     "end_time": "2022-11-19T02:05:22.073355",
     "exception": false,
     "start_time": "2022-11-19T02:05:22.040858",
     "status": "completed"
    },
    "tags": []
   },
   "outputs": [
    {
     "name": "stdout",
     "output_type": "stream",
     "text": [
      "<class 'pandas.core.frame.DataFrame'>\n",
      "RangeIndex: 104 entries, 0 to 103\n",
      "Data columns (total 14 columns):\n",
      " #   Column    Non-Null Count  Dtype  \n",
      "---  ------    --------------  -----  \n",
      " 0   case      104 non-null    int64  \n",
      " 1   site      104 non-null    int64  \n",
      " 2   Pop       104 non-null    object \n",
      " 3   sex       104 non-null    object \n",
      " 4   age       102 non-null    float64\n",
      " 5   hdlngth   104 non-null    float64\n",
      " 6   skullw    104 non-null    float64\n",
      " 7   totlngth  104 non-null    float64\n",
      " 8   taill     104 non-null    float64\n",
      " 9   footlgth  103 non-null    float64\n",
      " 10  earconch  104 non-null    float64\n",
      " 11  eye       104 non-null    float64\n",
      " 12  chest     104 non-null    float64\n",
      " 13  belly     104 non-null    float64\n",
      "dtypes: float64(10), int64(2), object(2)\n",
      "memory usage: 11.5+ KB\n"
     ]
    }
   ],
   "source": [
    "# Shows types of data there are\n",
    "dataset.info()"
   ]
  },
  {
   "cell_type": "code",
   "execution_count": 4,
   "id": "36571d35",
   "metadata": {
    "execution": {
     "iopub.execute_input": "2022-11-19T02:05:22.084523Z",
     "iopub.status.busy": "2022-11-19T02:05:22.084208Z",
     "iopub.status.idle": "2022-11-19T02:05:22.093761Z",
     "shell.execute_reply": "2022-11-19T02:05:22.092473Z"
    },
    "papermill": {
     "duration": 0.018054,
     "end_time": "2022-11-19T02:05:22.096389",
     "exception": false,
     "start_time": "2022-11-19T02:05:22.078335",
     "status": "completed"
    },
    "tags": []
   },
   "outputs": [
    {
     "data": {
      "text/plain": [
       "case        0\n",
       "site        0\n",
       "Pop         0\n",
       "sex         0\n",
       "age         2\n",
       "hdlngth     0\n",
       "skullw      0\n",
       "totlngth    0\n",
       "taill       0\n",
       "footlgth    1\n",
       "earconch    0\n",
       "eye         0\n",
       "chest       0\n",
       "belly       0\n",
       "dtype: int64"
      ]
     },
     "execution_count": 4,
     "metadata": {},
     "output_type": "execute_result"
    }
   ],
   "source": [
    "dataset.isna().sum()"
   ]
  },
  {
   "cell_type": "code",
   "execution_count": 5,
   "id": "e7c11dfe",
   "metadata": {
    "execution": {
     "iopub.execute_input": "2022-11-19T02:05:22.108286Z",
     "iopub.status.busy": "2022-11-19T02:05:22.107864Z",
     "iopub.status.idle": "2022-11-19T02:05:22.116110Z",
     "shell.execute_reply": "2022-11-19T02:05:22.115396Z"
    },
    "papermill": {
     "duration": 0.016085,
     "end_time": "2022-11-19T02:05:22.117691",
     "exception": false,
     "start_time": "2022-11-19T02:05:22.101606",
     "status": "completed"
    },
    "tags": []
   },
   "outputs": [],
   "source": [
    "dataset = dataset.dropna()"
   ]
  },
  {
   "cell_type": "code",
   "execution_count": 6,
   "id": "2ac6ab15",
   "metadata": {
    "execution": {
     "iopub.execute_input": "2022-11-19T02:05:22.130684Z",
     "iopub.status.busy": "2022-11-19T02:05:22.128863Z",
     "iopub.status.idle": "2022-11-19T02:05:22.137778Z",
     "shell.execute_reply": "2022-11-19T02:05:22.136774Z"
    },
    "papermill": {
     "duration": 0.017172,
     "end_time": "2022-11-19T02:05:22.139885",
     "exception": false,
     "start_time": "2022-11-19T02:05:22.122713",
     "status": "completed"
    },
    "tags": []
   },
   "outputs": [
    {
     "data": {
      "text/plain": [
       "case        0\n",
       "site        0\n",
       "Pop         0\n",
       "sex         0\n",
       "age         0\n",
       "hdlngth     0\n",
       "skullw      0\n",
       "totlngth    0\n",
       "taill       0\n",
       "footlgth    0\n",
       "earconch    0\n",
       "eye         0\n",
       "chest       0\n",
       "belly       0\n",
       "dtype: int64"
      ]
     },
     "execution_count": 6,
     "metadata": {},
     "output_type": "execute_result"
    }
   ],
   "source": [
    "dataset.isna().sum()"
   ]
  },
  {
   "cell_type": "code",
   "execution_count": 7,
   "id": "386325ce",
   "metadata": {
    "execution": {
     "iopub.execute_input": "2022-11-19T02:05:22.152254Z",
     "iopub.status.busy": "2022-11-19T02:05:22.151727Z",
     "iopub.status.idle": "2022-11-19T02:05:22.161915Z",
     "shell.execute_reply": "2022-11-19T02:05:22.161028Z"
    },
    "papermill": {
     "duration": 0.018776,
     "end_time": "2022-11-19T02:05:22.164136",
     "exception": false,
     "start_time": "2022-11-19T02:05:22.145360",
     "status": "completed"
    },
    "tags": []
   },
   "outputs": [
    {
     "data": {
      "text/html": [
       "<div>\n",
       "<style scoped>\n",
       "    .dataframe tbody tr th:only-of-type {\n",
       "        vertical-align: middle;\n",
       "    }\n",
       "\n",
       "    .dataframe tbody tr th {\n",
       "        vertical-align: top;\n",
       "    }\n",
       "\n",
       "    .dataframe thead th {\n",
       "        text-align: right;\n",
       "    }\n",
       "</style>\n",
       "<table border=\"1\" class=\"dataframe\">\n",
       "  <thead>\n",
       "    <tr style=\"text-align: right;\">\n",
       "      <th></th>\n",
       "      <th>f</th>\n",
       "      <th>m</th>\n",
       "    </tr>\n",
       "  </thead>\n",
       "  <tbody>\n",
       "    <tr>\n",
       "      <th>0</th>\n",
       "      <td>0</td>\n",
       "      <td>1</td>\n",
       "    </tr>\n",
       "    <tr>\n",
       "      <th>1</th>\n",
       "      <td>1</td>\n",
       "      <td>0</td>\n",
       "    </tr>\n",
       "    <tr>\n",
       "      <th>2</th>\n",
       "      <td>1</td>\n",
       "      <td>0</td>\n",
       "    </tr>\n",
       "    <tr>\n",
       "      <th>3</th>\n",
       "      <td>1</td>\n",
       "      <td>0</td>\n",
       "    </tr>\n",
       "    <tr>\n",
       "      <th>4</th>\n",
       "      <td>1</td>\n",
       "      <td>0</td>\n",
       "    </tr>\n",
       "  </tbody>\n",
       "</table>\n",
       "</div>"
      ],
      "text/plain": [
       "   f  m\n",
       "0  0  1\n",
       "1  1  0\n",
       "2  1  0\n",
       "3  1  0\n",
       "4  1  0"
      ]
     },
     "execution_count": 7,
     "metadata": {},
     "output_type": "execute_result"
    }
   ],
   "source": [
    "features = dataset.drop('sex',axis=1)\n",
    "targets = dataset['sex']\n",
    "\n",
    "targets_onehot = pd.get_dummies(targets)\n",
    "targets_onehot.head()"
   ]
  },
  {
   "cell_type": "code",
   "execution_count": 8,
   "id": "62dd334e",
   "metadata": {
    "execution": {
     "iopub.execute_input": "2022-11-19T02:05:22.177502Z",
     "iopub.status.busy": "2022-11-19T02:05:22.176837Z",
     "iopub.status.idle": "2022-11-19T02:05:22.197008Z",
     "shell.execute_reply": "2022-11-19T02:05:22.195514Z"
    },
    "papermill": {
     "duration": 0.030248,
     "end_time": "2022-11-19T02:05:22.199598",
     "exception": false,
     "start_time": "2022-11-19T02:05:22.169350",
     "status": "completed"
    },
    "tags": []
   },
   "outputs": [
    {
     "data": {
      "text/html": [
       "<div>\n",
       "<style scoped>\n",
       "    .dataframe tbody tr th:only-of-type {\n",
       "        vertical-align: middle;\n",
       "    }\n",
       "\n",
       "    .dataframe tbody tr th {\n",
       "        vertical-align: top;\n",
       "    }\n",
       "\n",
       "    .dataframe thead th {\n",
       "        text-align: right;\n",
       "    }\n",
       "</style>\n",
       "<table border=\"1\" class=\"dataframe\">\n",
       "  <thead>\n",
       "    <tr style=\"text-align: right;\">\n",
       "      <th></th>\n",
       "      <th>case</th>\n",
       "      <th>site</th>\n",
       "      <th>age</th>\n",
       "      <th>hdlngth</th>\n",
       "      <th>skullw</th>\n",
       "      <th>totlngth</th>\n",
       "      <th>taill</th>\n",
       "      <th>footlgth</th>\n",
       "      <th>earconch</th>\n",
       "      <th>eye</th>\n",
       "      <th>chest</th>\n",
       "      <th>belly</th>\n",
       "      <th>Pop_Vic</th>\n",
       "      <th>Pop_other</th>\n",
       "    </tr>\n",
       "  </thead>\n",
       "  <tbody>\n",
       "    <tr>\n",
       "      <th>0</th>\n",
       "      <td>1</td>\n",
       "      <td>1</td>\n",
       "      <td>8.0</td>\n",
       "      <td>94.1</td>\n",
       "      <td>60.4</td>\n",
       "      <td>89.0</td>\n",
       "      <td>36.0</td>\n",
       "      <td>74.5</td>\n",
       "      <td>54.5</td>\n",
       "      <td>15.2</td>\n",
       "      <td>28.0</td>\n",
       "      <td>36.0</td>\n",
       "      <td>1</td>\n",
       "      <td>0</td>\n",
       "    </tr>\n",
       "    <tr>\n",
       "      <th>1</th>\n",
       "      <td>2</td>\n",
       "      <td>1</td>\n",
       "      <td>6.0</td>\n",
       "      <td>92.5</td>\n",
       "      <td>57.6</td>\n",
       "      <td>91.5</td>\n",
       "      <td>36.5</td>\n",
       "      <td>72.5</td>\n",
       "      <td>51.2</td>\n",
       "      <td>16.0</td>\n",
       "      <td>28.5</td>\n",
       "      <td>33.0</td>\n",
       "      <td>1</td>\n",
       "      <td>0</td>\n",
       "    </tr>\n",
       "    <tr>\n",
       "      <th>2</th>\n",
       "      <td>3</td>\n",
       "      <td>1</td>\n",
       "      <td>6.0</td>\n",
       "      <td>94.0</td>\n",
       "      <td>60.0</td>\n",
       "      <td>95.5</td>\n",
       "      <td>39.0</td>\n",
       "      <td>75.4</td>\n",
       "      <td>51.9</td>\n",
       "      <td>15.5</td>\n",
       "      <td>30.0</td>\n",
       "      <td>34.0</td>\n",
       "      <td>1</td>\n",
       "      <td>0</td>\n",
       "    </tr>\n",
       "    <tr>\n",
       "      <th>3</th>\n",
       "      <td>4</td>\n",
       "      <td>1</td>\n",
       "      <td>6.0</td>\n",
       "      <td>93.2</td>\n",
       "      <td>57.1</td>\n",
       "      <td>92.0</td>\n",
       "      <td>38.0</td>\n",
       "      <td>76.1</td>\n",
       "      <td>52.2</td>\n",
       "      <td>15.2</td>\n",
       "      <td>28.0</td>\n",
       "      <td>34.0</td>\n",
       "      <td>1</td>\n",
       "      <td>0</td>\n",
       "    </tr>\n",
       "    <tr>\n",
       "      <th>4</th>\n",
       "      <td>5</td>\n",
       "      <td>1</td>\n",
       "      <td>2.0</td>\n",
       "      <td>91.5</td>\n",
       "      <td>56.3</td>\n",
       "      <td>85.5</td>\n",
       "      <td>36.0</td>\n",
       "      <td>71.0</td>\n",
       "      <td>53.2</td>\n",
       "      <td>15.1</td>\n",
       "      <td>28.5</td>\n",
       "      <td>33.0</td>\n",
       "      <td>1</td>\n",
       "      <td>0</td>\n",
       "    </tr>\n",
       "  </tbody>\n",
       "</table>\n",
       "</div>"
      ],
      "text/plain": [
       "   case  site  age  hdlngth  skullw  totlngth  taill  footlgth  earconch  \\\n",
       "0     1     1  8.0     94.1    60.4      89.0   36.0      74.5      54.5   \n",
       "1     2     1  6.0     92.5    57.6      91.5   36.5      72.5      51.2   \n",
       "2     3     1  6.0     94.0    60.0      95.5   39.0      75.4      51.9   \n",
       "3     4     1  6.0     93.2    57.1      92.0   38.0      76.1      52.2   \n",
       "4     5     1  2.0     91.5    56.3      85.5   36.0      71.0      53.2   \n",
       "\n",
       "    eye  chest  belly  Pop_Vic  Pop_other  \n",
       "0  15.2   28.0   36.0        1          0  \n",
       "1  16.0   28.5   33.0        1          0  \n",
       "2  15.5   30.0   34.0        1          0  \n",
       "3  15.2   28.0   34.0        1          0  \n",
       "4  15.1   28.5   33.0        1          0  "
      ]
     },
     "execution_count": 8,
     "metadata": {},
     "output_type": "execute_result"
    }
   ],
   "source": [
    "features_onehot = pd.get_dummies(features)\n",
    "features_onehot.head()"
   ]
  },
  {
   "cell_type": "code",
   "execution_count": 9,
   "id": "5fe16142",
   "metadata": {
    "execution": {
     "iopub.execute_input": "2022-11-19T02:05:22.212603Z",
     "iopub.status.busy": "2022-11-19T02:05:22.211962Z",
     "iopub.status.idle": "2022-11-19T02:05:22.223416Z",
     "shell.execute_reply": "2022-11-19T02:05:22.222044Z"
    },
    "papermill": {
     "duration": 0.020687,
     "end_time": "2022-11-19T02:05:22.225967",
     "exception": false,
     "start_time": "2022-11-19T02:05:22.205280",
     "status": "completed"
    },
    "tags": []
   },
   "outputs": [
    {
     "name": "stdout",
     "output_type": "stream",
     "text": [
      "<class 'pandas.core.frame.DataFrame'>\n",
      "Int64Index: 101 entries, 0 to 103\n",
      "Data columns (total 14 columns):\n",
      " #   Column     Non-Null Count  Dtype  \n",
      "---  ------     --------------  -----  \n",
      " 0   case       101 non-null    float32\n",
      " 1   site       101 non-null    float32\n",
      " 2   age        101 non-null    float32\n",
      " 3   hdlngth    101 non-null    float32\n",
      " 4   skullw     101 non-null    float32\n",
      " 5   totlngth   101 non-null    float32\n",
      " 6   taill      101 non-null    float32\n",
      " 7   footlgth   101 non-null    float32\n",
      " 8   earconch   101 non-null    float32\n",
      " 9   eye        101 non-null    float32\n",
      " 10  chest      101 non-null    float32\n",
      " 11  belly      101 non-null    float32\n",
      " 12  Pop_Vic    101 non-null    float32\n",
      " 13  Pop_other  101 non-null    float32\n",
      "dtypes: float32(14)\n",
      "memory usage: 6.3 KB\n"
     ]
    }
   ],
   "source": [
    "targets_onehot = targets_onehot.astype('float32')\n",
    "features_onehot = features_onehot.astype('float32')\n",
    "\n",
    "features_onehot.info()"
   ]
  },
  {
   "cell_type": "code",
   "execution_count": 10,
   "id": "336ef064",
   "metadata": {
    "execution": {
     "iopub.execute_input": "2022-11-19T02:05:22.239087Z",
     "iopub.status.busy": "2022-11-19T02:05:22.238704Z",
     "iopub.status.idle": "2022-11-19T02:05:22.283738Z",
     "shell.execute_reply": "2022-11-19T02:05:22.282638Z"
    },
    "papermill": {
     "duration": 0.054004,
     "end_time": "2022-11-19T02:05:22.285840",
     "exception": false,
     "start_time": "2022-11-19T02:05:22.231836",
     "status": "completed"
    },
    "tags": []
   },
   "outputs": [
    {
     "data": {
      "text/html": [
       "<div>\n",
       "<style scoped>\n",
       "    .dataframe tbody tr th:only-of-type {\n",
       "        vertical-align: middle;\n",
       "    }\n",
       "\n",
       "    .dataframe tbody tr th {\n",
       "        vertical-align: top;\n",
       "    }\n",
       "\n",
       "    .dataframe thead th {\n",
       "        text-align: right;\n",
       "    }\n",
       "</style>\n",
       "<table border=\"1\" class=\"dataframe\">\n",
       "  <thead>\n",
       "    <tr style=\"text-align: right;\">\n",
       "      <th></th>\n",
       "      <th>case</th>\n",
       "      <th>site</th>\n",
       "      <th>age</th>\n",
       "      <th>hdlngth</th>\n",
       "      <th>skullw</th>\n",
       "      <th>totlngth</th>\n",
       "      <th>taill</th>\n",
       "      <th>footlgth</th>\n",
       "      <th>earconch</th>\n",
       "      <th>eye</th>\n",
       "      <th>chest</th>\n",
       "      <th>belly</th>\n",
       "      <th>Pop_Vic</th>\n",
       "      <th>Pop_other</th>\n",
       "    </tr>\n",
       "  </thead>\n",
       "  <tbody>\n",
       "    <tr>\n",
       "      <th>count</th>\n",
       "      <td>101.000000</td>\n",
       "      <td>101.000000</td>\n",
       "      <td>101.000000</td>\n",
       "      <td>101.000000</td>\n",
       "      <td>101.000000</td>\n",
       "      <td>101.000000</td>\n",
       "      <td>101.000000</td>\n",
       "      <td>101.000000</td>\n",
       "      <td>101.000000</td>\n",
       "      <td>101.000000</td>\n",
       "      <td>101.000000</td>\n",
       "      <td>101.000000</td>\n",
       "      <td>101.000000</td>\n",
       "      <td>101.000000</td>\n",
       "    </tr>\n",
       "    <tr>\n",
       "      <th>mean</th>\n",
       "      <td>52.762375</td>\n",
       "      <td>3.673267</td>\n",
       "      <td>3.821782</td>\n",
       "      <td>92.730690</td>\n",
       "      <td>56.960400</td>\n",
       "      <td>87.269310</td>\n",
       "      <td>37.049503</td>\n",
       "      <td>68.398018</td>\n",
       "      <td>48.133656</td>\n",
       "      <td>15.050496</td>\n",
       "      <td>27.064356</td>\n",
       "      <td>32.638615</td>\n",
       "      <td>0.425743</td>\n",
       "      <td>0.574257</td>\n",
       "    </tr>\n",
       "    <tr>\n",
       "      <th>std</th>\n",
       "      <td>30.573895</td>\n",
       "      <td>2.366892</td>\n",
       "      <td>1.915182</td>\n",
       "      <td>3.518714</td>\n",
       "      <td>3.102679</td>\n",
       "      <td>4.196802</td>\n",
       "      <td>1.971681</td>\n",
       "      <td>4.413502</td>\n",
       "      <td>4.060352</td>\n",
       "      <td>1.058643</td>\n",
       "      <td>2.020722</td>\n",
       "      <td>2.727745</td>\n",
       "      <td>0.496921</td>\n",
       "      <td>0.496921</td>\n",
       "    </tr>\n",
       "    <tr>\n",
       "      <th>min</th>\n",
       "      <td>1.000000</td>\n",
       "      <td>1.000000</td>\n",
       "      <td>1.000000</td>\n",
       "      <td>82.500000</td>\n",
       "      <td>50.000000</td>\n",
       "      <td>75.000000</td>\n",
       "      <td>32.000000</td>\n",
       "      <td>60.299999</td>\n",
       "      <td>41.299999</td>\n",
       "      <td>12.800000</td>\n",
       "      <td>22.000000</td>\n",
       "      <td>25.000000</td>\n",
       "      <td>0.000000</td>\n",
       "      <td>0.000000</td>\n",
       "    </tr>\n",
       "    <tr>\n",
       "      <th>25%</th>\n",
       "      <td>26.000000</td>\n",
       "      <td>1.000000</td>\n",
       "      <td>2.000000</td>\n",
       "      <td>90.699997</td>\n",
       "      <td>55.000000</td>\n",
       "      <td>84.500000</td>\n",
       "      <td>36.000000</td>\n",
       "      <td>64.500000</td>\n",
       "      <td>44.799999</td>\n",
       "      <td>14.400000</td>\n",
       "      <td>25.500000</td>\n",
       "      <td>31.000000</td>\n",
       "      <td>0.000000</td>\n",
       "      <td>0.000000</td>\n",
       "    </tr>\n",
       "    <tr>\n",
       "      <th>50%</th>\n",
       "      <td>54.000000</td>\n",
       "      <td>4.000000</td>\n",
       "      <td>3.000000</td>\n",
       "      <td>92.900002</td>\n",
       "      <td>56.400002</td>\n",
       "      <td>88.000000</td>\n",
       "      <td>37.000000</td>\n",
       "      <td>67.900002</td>\n",
       "      <td>46.799999</td>\n",
       "      <td>14.900000</td>\n",
       "      <td>27.000000</td>\n",
       "      <td>32.500000</td>\n",
       "      <td>0.000000</td>\n",
       "      <td>1.000000</td>\n",
       "    </tr>\n",
       "    <tr>\n",
       "      <th>75%</th>\n",
       "      <td>79.000000</td>\n",
       "      <td>6.000000</td>\n",
       "      <td>5.000000</td>\n",
       "      <td>94.800003</td>\n",
       "      <td>58.099998</td>\n",
       "      <td>90.000000</td>\n",
       "      <td>38.000000</td>\n",
       "      <td>72.500000</td>\n",
       "      <td>52.000000</td>\n",
       "      <td>15.700000</td>\n",
       "      <td>28.000000</td>\n",
       "      <td>34.000000</td>\n",
       "      <td>1.000000</td>\n",
       "      <td>1.000000</td>\n",
       "    </tr>\n",
       "    <tr>\n",
       "      <th>max</th>\n",
       "      <td>104.000000</td>\n",
       "      <td>7.000000</td>\n",
       "      <td>9.000000</td>\n",
       "      <td>103.099998</td>\n",
       "      <td>68.599998</td>\n",
       "      <td>96.500000</td>\n",
       "      <td>43.000000</td>\n",
       "      <td>77.900002</td>\n",
       "      <td>56.200001</td>\n",
       "      <td>17.799999</td>\n",
       "      <td>32.000000</td>\n",
       "      <td>40.000000</td>\n",
       "      <td>1.000000</td>\n",
       "      <td>1.000000</td>\n",
       "    </tr>\n",
       "  </tbody>\n",
       "</table>\n",
       "</div>"
      ],
      "text/plain": [
       "             case        site         age     hdlngth      skullw    totlngth  \\\n",
       "count  101.000000  101.000000  101.000000  101.000000  101.000000  101.000000   \n",
       "mean    52.762375    3.673267    3.821782   92.730690   56.960400   87.269310   \n",
       "std     30.573895    2.366892    1.915182    3.518714    3.102679    4.196802   \n",
       "min      1.000000    1.000000    1.000000   82.500000   50.000000   75.000000   \n",
       "25%     26.000000    1.000000    2.000000   90.699997   55.000000   84.500000   \n",
       "50%     54.000000    4.000000    3.000000   92.900002   56.400002   88.000000   \n",
       "75%     79.000000    6.000000    5.000000   94.800003   58.099998   90.000000   \n",
       "max    104.000000    7.000000    9.000000  103.099998   68.599998   96.500000   \n",
       "\n",
       "            taill    footlgth    earconch         eye       chest       belly  \\\n",
       "count  101.000000  101.000000  101.000000  101.000000  101.000000  101.000000   \n",
       "mean    37.049503   68.398018   48.133656   15.050496   27.064356   32.638615   \n",
       "std      1.971681    4.413502    4.060352    1.058643    2.020722    2.727745   \n",
       "min     32.000000   60.299999   41.299999   12.800000   22.000000   25.000000   \n",
       "25%     36.000000   64.500000   44.799999   14.400000   25.500000   31.000000   \n",
       "50%     37.000000   67.900002   46.799999   14.900000   27.000000   32.500000   \n",
       "75%     38.000000   72.500000   52.000000   15.700000   28.000000   34.000000   \n",
       "max     43.000000   77.900002   56.200001   17.799999   32.000000   40.000000   \n",
       "\n",
       "          Pop_Vic   Pop_other  \n",
       "count  101.000000  101.000000  \n",
       "mean     0.425743    0.574257  \n",
       "std      0.496921    0.496921  \n",
       "min      0.000000    0.000000  \n",
       "25%      0.000000    0.000000  \n",
       "50%      0.000000    1.000000  \n",
       "75%      1.000000    1.000000  \n",
       "max      1.000000    1.000000  "
      ]
     },
     "execution_count": 10,
     "metadata": {},
     "output_type": "execute_result"
    }
   ],
   "source": [
    "features_onehot.describe()"
   ]
  },
  {
   "cell_type": "code",
   "execution_count": 11,
   "id": "bbfb78de",
   "metadata": {
    "execution": {
     "iopub.execute_input": "2022-11-19T02:05:22.299484Z",
     "iopub.status.busy": "2022-11-19T02:05:22.299159Z",
     "iopub.status.idle": "2022-11-19T02:05:23.522092Z",
     "shell.execute_reply": "2022-11-19T02:05:23.521071Z"
    },
    "papermill": {
     "duration": 1.232121,
     "end_time": "2022-11-19T02:05:23.523936",
     "exception": false,
     "start_time": "2022-11-19T02:05:22.291815",
     "status": "completed"
    },
    "tags": []
   },
   "outputs": [
    {
     "data": {
      "text/plain": [
       "f    m  \n",
       "0.0  1.0    53\n",
       "1.0  0.0    37\n",
       "dtype: int64"
      ]
     },
     "execution_count": 11,
     "metadata": {},
     "output_type": "execute_result"
    }
   ],
   "source": [
    "from sklearn.model_selection import train_test_split\n",
    "\n",
    "train_features, test_features, train_targets, test_targets = train_test_split(features_onehot, targets_onehot, test_size=0.1, stratify=targets)\n",
    "train_targets.value_counts()"
   ]
  },
  {
   "cell_type": "code",
   "execution_count": 12,
   "id": "07d18a60",
   "metadata": {
    "execution": {
     "iopub.execute_input": "2022-11-19T02:05:23.537908Z",
     "iopub.status.busy": "2022-11-19T02:05:23.537176Z",
     "iopub.status.idle": "2022-11-19T02:05:23.545340Z",
     "shell.execute_reply": "2022-11-19T02:05:23.544441Z"
    },
    "papermill": {
     "duration": 0.017157,
     "end_time": "2022-11-19T02:05:23.547135",
     "exception": false,
     "start_time": "2022-11-19T02:05:23.529978",
     "status": "completed"
    },
    "tags": []
   },
   "outputs": [
    {
     "data": {
      "text/plain": [
       "f    m  \n",
       "0.0  1.0    6\n",
       "1.0  0.0    5\n",
       "dtype: int64"
      ]
     },
     "execution_count": 12,
     "metadata": {},
     "output_type": "execute_result"
    }
   ],
   "source": [
    "test_targets.value_counts()"
   ]
  },
  {
   "cell_type": "code",
   "execution_count": 13,
   "id": "35c77149",
   "metadata": {
    "execution": {
     "iopub.execute_input": "2022-11-19T02:05:23.562203Z",
     "iopub.status.busy": "2022-11-19T02:05:23.560755Z",
     "iopub.status.idle": "2022-11-19T02:05:29.234827Z",
     "shell.execute_reply": "2022-11-19T02:05:29.233866Z"
    },
    "papermill": {
     "duration": 5.683449,
     "end_time": "2022-11-19T02:05:29.236938",
     "exception": false,
     "start_time": "2022-11-19T02:05:23.553489",
     "status": "completed"
    },
    "tags": []
   },
   "outputs": [
    {
     "name": "stderr",
     "output_type": "stream",
     "text": [
      "2022-11-19 02:05:29.212703: I tensorflow/core/common_runtime/process_util.cc:146] Creating new thread pool with default inter op setting: 2. Tune using inter_op_parallelism_threads for best performance.\n"
     ]
    }
   ],
   "source": [
    "import tensorflow as tf\n",
    "\n",
    "train_features_tensor = tf.convert_to_tensor(train_features)\n",
    "test_features_tensor = tf.convert_to_tensor(test_features)\n",
    "train_targets_tensor = tf.convert_to_tensor(train_targets)\n",
    "test_targets_tensor = tf.convert_to_tensor(test_targets)\n",
    "tf.allow_soft_placement=True"
   ]
  },
  {
   "cell_type": "code",
   "execution_count": 14,
   "id": "ad224480",
   "metadata": {
    "execution": {
     "iopub.execute_input": "2022-11-19T02:05:29.253392Z",
     "iopub.status.busy": "2022-11-19T02:05:29.252586Z",
     "iopub.status.idle": "2022-11-19T02:05:29.268751Z",
     "shell.execute_reply": "2022-11-19T02:05:29.267080Z"
    },
    "papermill": {
     "duration": 0.0274,
     "end_time": "2022-11-19T02:05:29.271615",
     "exception": false,
     "start_time": "2022-11-19T02:05:29.244215",
     "status": "completed"
    },
    "tags": []
   },
   "outputs": [
    {
     "name": "stdout",
     "output_type": "stream",
     "text": [
      "<class 'pandas.core.frame.DataFrame'>\n",
      "Int64Index: 90 entries, 25 to 35\n",
      "Data columns (total 14 columns):\n",
      " #   Column     Non-Null Count  Dtype  \n",
      "---  ------     --------------  -----  \n",
      " 0   case       90 non-null     float32\n",
      " 1   site       90 non-null     float32\n",
      " 2   age        90 non-null     float32\n",
      " 3   hdlngth    90 non-null     float32\n",
      " 4   skullw     90 non-null     float32\n",
      " 5   totlngth   90 non-null     float32\n",
      " 6   taill      90 non-null     float32\n",
      " 7   footlgth   90 non-null     float32\n",
      " 8   earconch   90 non-null     float32\n",
      " 9   eye        90 non-null     float32\n",
      " 10  chest      90 non-null     float32\n",
      " 11  belly      90 non-null     float32\n",
      " 12  Pop_Vic    90 non-null     float32\n",
      " 13  Pop_other  90 non-null     float32\n",
      "dtypes: float32(14)\n",
      "memory usage: 5.6 KB\n",
      "<class 'pandas.core.frame.DataFrame'>\n",
      "Int64Index: 90 entries, 25 to 35\n",
      "Data columns (total 2 columns):\n",
      " #   Column  Non-Null Count  Dtype  \n",
      "---  ------  --------------  -----  \n",
      " 0   f       90 non-null     float32\n",
      " 1   m       90 non-null     float32\n",
      "dtypes: float32(2)\n",
      "memory usage: 1.4 KB\n"
     ]
    }
   ],
   "source": [
    "train_features.shape\n",
    "train_targets.shape\n",
    "train_features.info()\n",
    "train_targets.info()"
   ]
  },
  {
   "cell_type": "code",
   "execution_count": 15,
   "id": "a9689edf",
   "metadata": {
    "execution": {
     "iopub.execute_input": "2022-11-19T02:05:29.286917Z",
     "iopub.status.busy": "2022-11-19T02:05:29.286162Z",
     "iopub.status.idle": "2022-11-19T02:05:29.291637Z",
     "shell.execute_reply": "2022-11-19T02:05:29.289925Z"
    },
    "papermill": {
     "duration": 0.015559,
     "end_time": "2022-11-19T02:05:29.293956",
     "exception": false,
     "start_time": "2022-11-19T02:05:29.278397",
     "status": "completed"
    },
    "tags": []
   },
   "outputs": [
    {
     "name": "stdout",
     "output_type": "stream",
     "text": [
      "14\n"
     ]
    }
   ],
   "source": [
    "input_shape = train_features.shape[1]\n",
    "print(input_shape)"
   ]
  },
  {
   "cell_type": "code",
   "execution_count": 16,
   "id": "965ffd29",
   "metadata": {
    "execution": {
     "iopub.execute_input": "2022-11-19T02:05:29.308563Z",
     "iopub.status.busy": "2022-11-19T02:05:29.308219Z",
     "iopub.status.idle": "2022-11-19T02:05:30.682235Z",
     "shell.execute_reply": "2022-11-19T02:05:30.681244Z"
    },
    "papermill": {
     "duration": 1.384611,
     "end_time": "2022-11-19T02:05:30.685162",
     "exception": false,
     "start_time": "2022-11-19T02:05:29.300551",
     "status": "completed"
    },
    "tags": []
   },
   "outputs": [
    {
     "name": "stdout",
     "output_type": "stream",
     "text": [
      "Model: \"sequential\"\n",
      "_________________________________________________________________\n",
      "Layer (type)                 Output Shape              Param #   \n",
      "=================================================================\n",
      "dense (Dense)                (None, 20)                300       \n",
      "_________________________________________________________________\n",
      "dense_1 (Dense)              (None, 10)                210       \n",
      "_________________________________________________________________\n",
      "dense_2 (Dense)              (None, 2)                 22        \n",
      "_________________________________________________________________\n",
      "flatten (Flatten)            (None, 2)                 0         \n",
      "=================================================================\n",
      "Total params: 532\n",
      "Trainable params: 532\n",
      "Non-trainable params: 0\n",
      "_________________________________________________________________\n"
     ]
    }
   ],
   "source": [
    "from tensorflow.keras import Sequential\n",
    "from tensorflow.keras.layers import Dense\n",
    "from tensorflow.keras.layers import Flatten\n",
    "\n",
    "model = Sequential([\n",
    "    Dense(20, activation='sigmoid', input_shape = [14]),\n",
    "    Dense(10, activation='sigmoid'),\n",
    "    Dense(2, activation='sigmoid'),\n",
    "])\n",
    "model.add(Flatten())   ######\n",
    "model.compile(optimizer='adam', loss='binary_crossentropy', metrics=['accuracy'])  ######\n",
    "model.summary()"
   ]
  },
  {
   "cell_type": "code",
   "execution_count": 17,
   "id": "20c36628",
   "metadata": {
    "execution": {
     "iopub.execute_input": "2022-11-19T02:05:30.701788Z",
     "iopub.status.busy": "2022-11-19T02:05:30.700886Z",
     "iopub.status.idle": "2022-11-19T02:05:30.707808Z",
     "shell.execute_reply": "2022-11-19T02:05:30.706312Z"
    },
    "papermill": {
     "duration": 0.017303,
     "end_time": "2022-11-19T02:05:30.710559",
     "exception": false,
     "start_time": "2022-11-19T02:05:30.693256",
     "status": "completed"
    },
    "tags": []
   },
   "outputs": [
    {
     "name": "stdout",
     "output_type": "stream",
     "text": [
      "(90, 14) (90, 2)\n"
     ]
    }
   ],
   "source": [
    "print(train_features_tensor.shape,\n",
    "train_targets_tensor.shape)"
   ]
  },
  {
   "cell_type": "code",
   "execution_count": 18,
   "id": "2d0b09b1",
   "metadata": {
    "execution": {
     "iopub.execute_input": "2022-11-19T02:05:30.725381Z",
     "iopub.status.busy": "2022-11-19T02:05:30.724890Z",
     "iopub.status.idle": "2022-11-19T02:05:31.674366Z",
     "shell.execute_reply": "2022-11-19T02:05:31.672726Z"
    },
    "papermill": {
     "duration": 0.95991,
     "end_time": "2022-11-19T02:05:31.677672",
     "exception": false,
     "start_time": "2022-11-19T02:05:30.717762",
     "status": "completed"
    },
    "tags": []
   },
   "outputs": [
    {
     "name": "stdout",
     "output_type": "stream",
     "text": [
      "Epoch 1/10\n"
     ]
    },
    {
     "name": "stderr",
     "output_type": "stream",
     "text": [
      "2022-11-19 02:05:30.800310: I tensorflow/compiler/mlir/mlir_graph_optimization_pass.cc:185] None of the MLIR Optimization Passes are enabled (registered 2)\n"
     ]
    },
    {
     "name": "stdout",
     "output_type": "stream",
     "text": [
      "9/9 [==============================] - 1s 2ms/step - loss: 0.7093 - accuracy: 0.5889\n",
      "Epoch 2/10\n",
      "9/9 [==============================] - 0s 2ms/step - loss: 0.6997 - accuracy: 0.5889\n",
      "Epoch 3/10\n",
      "9/9 [==============================] - 0s 2ms/step - loss: 0.6925 - accuracy: 0.5889\n",
      "Epoch 4/10\n",
      "9/9 [==============================] - 0s 2ms/step - loss: 0.6867 - accuracy: 0.5889\n",
      "Epoch 5/10\n",
      "9/9 [==============================] - 0s 2ms/step - loss: 0.6829 - accuracy: 0.5889\n",
      "Epoch 6/10\n",
      "9/9 [==============================] - 0s 2ms/step - loss: 0.6766 - accuracy: 0.5889\n",
      "Epoch 7/10\n",
      "9/9 [==============================] - 0s 2ms/step - loss: 0.6729 - accuracy: 0.5889\n",
      "Epoch 8/10\n",
      "9/9 [==============================] - 0s 2ms/step - loss: 0.6694 - accuracy: 0.5889\n",
      "Epoch 9/10\n",
      "9/9 [==============================] - 0s 2ms/step - loss: 0.6659 - accuracy: 0.5889\n",
      "Epoch 10/10\n",
      "9/9 [==============================] - 0s 2ms/step - loss: 0.6639 - accuracy: 0.5889\n"
     ]
    },
    {
     "data": {
      "text/plain": [
       "<keras.callbacks.History at 0x7f4cf57c6b10>"
      ]
     },
     "execution_count": 18,
     "metadata": {},
     "output_type": "execute_result"
    }
   ],
   "source": [
    "model.fit(train_features_tensor, train_targets_tensor, epochs=10, batch_size=10)"
   ]
  },
  {
   "cell_type": "code",
   "execution_count": 19,
   "id": "f9e31c37",
   "metadata": {
    "execution": {
     "iopub.execute_input": "2022-11-19T02:05:31.694735Z",
     "iopub.status.busy": "2022-11-19T02:05:31.694420Z",
     "iopub.status.idle": "2022-11-19T02:05:31.701200Z",
     "shell.execute_reply": "2022-11-19T02:05:31.699938Z"
    },
    "papermill": {
     "duration": 0.018101,
     "end_time": "2022-11-19T02:05:31.703709",
     "exception": false,
     "start_time": "2022-11-19T02:05:31.685608",
     "status": "completed"
    },
    "tags": []
   },
   "outputs": [
    {
     "data": {
      "text/plain": [
       "(90, 14)"
      ]
     },
     "execution_count": 19,
     "metadata": {},
     "output_type": "execute_result"
    }
   ],
   "source": [
    "train_features.shape"
   ]
  },
  {
   "cell_type": "code",
   "execution_count": 20,
   "id": "c901bd57",
   "metadata": {
    "execution": {
     "iopub.execute_input": "2022-11-19T02:05:31.722015Z",
     "iopub.status.busy": "2022-11-19T02:05:31.721687Z",
     "iopub.status.idle": "2022-11-19T02:05:31.737675Z",
     "shell.execute_reply": "2022-11-19T02:05:31.736284Z"
    },
    "papermill": {
     "duration": 0.026911,
     "end_time": "2022-11-19T02:05:31.739956",
     "exception": false,
     "start_time": "2022-11-19T02:05:31.713045",
     "status": "completed"
    },
    "tags": []
   },
   "outputs": [
    {
     "data": {
      "text/plain": [
       "<bound method NDFrame.describe of     case  site  age    hdlngth     skullw  totlngth  taill   footlgth  \\\n",
       "25  26.0   1.0  7.0  96.000000  59.000000      90.0   36.0  73.599998   \n",
       "81  82.0   6.0  4.0  86.000000  54.000000      82.0   36.5  60.700001   \n",
       "91  92.0   7.0  2.0  90.699997  56.299999      85.0   37.0  67.599998   \n",
       "52  53.0   3.0  3.0  93.099998  58.099998      91.0   38.0  67.400002   \n",
       "3    4.0   1.0  6.0  93.199997  57.099998      92.0   38.0  76.099998   \n",
       "..   ...   ...  ...        ...        ...       ...    ...        ...   \n",
       "31  32.0   1.0  4.0  94.300003  56.700001      94.0   39.0  74.800003   \n",
       "48  49.0   3.0  4.0  95.400002  59.200001      85.0   37.0  69.000000   \n",
       "36  37.0   2.0  2.0  89.300003  54.799999      82.5   35.0  71.199997   \n",
       "1    2.0   1.0  6.0  92.500000  57.599998      91.5   36.5  72.500000   \n",
       "35  36.0   2.0  7.0  93.300003  59.299999      88.0   35.0  74.300003   \n",
       "\n",
       "     earconch   eye  chest  belly  Pop_Vic  Pop_other  \n",
       "25  56.200001  15.0   29.0   38.0      1.0        0.0  \n",
       "81  42.900002  15.4   26.0   32.0      0.0        1.0  \n",
       "91  46.799999  14.5   25.5   31.0      0.0        1.0  \n",
       "52  46.000000  16.5   26.0   33.5      0.0        1.0  \n",
       "3   52.200001  15.2   28.0   34.0      1.0        0.0  \n",
       "..        ...   ...    ...    ...      ...        ...  \n",
       "31  52.000000  14.9   28.0   34.0      1.0        0.0  \n",
       "48  45.000000  15.9   29.5   35.5      0.0        1.0  \n",
       "36  52.000000  13.6   28.0   31.5      1.0        0.0  \n",
       "1   51.200001  16.0   28.5   33.0      1.0        0.0  \n",
       "35  52.000000  14.9   25.5   36.0      1.0        0.0  \n",
       "\n",
       "[90 rows x 14 columns]>"
      ]
     },
     "execution_count": 20,
     "metadata": {},
     "output_type": "execute_result"
    }
   ],
   "source": [
    "train_features.describe"
   ]
  },
  {
   "cell_type": "code",
   "execution_count": null,
   "id": "8a6116b1",
   "metadata": {
    "papermill": {
     "duration": 0.007035,
     "end_time": "2022-11-19T02:05:31.755206",
     "exception": false,
     "start_time": "2022-11-19T02:05:31.748171",
     "status": "completed"
    },
    "tags": []
   },
   "outputs": [],
   "source": []
  }
 ],
 "metadata": {
  "kernelspec": {
   "display_name": "Python 3",
   "language": "python",
   "name": "python3"
  },
  "language_info": {
   "codemirror_mode": {
    "name": "ipython",
    "version": 3
   },
   "file_extension": ".py",
   "mimetype": "text/x-python",
   "name": "python",
   "nbconvert_exporter": "python",
   "pygments_lexer": "ipython3",
   "version": "3.7.12"
  },
  "papermill": {
   "default_parameters": {},
   "duration": 22.301212,
   "end_time": "2022-11-19T02:05:34.713416",
   "environment_variables": {},
   "exception": null,
   "input_path": "__notebook__.ipynb",
   "output_path": "__notebook__.ipynb",
   "parameters": {},
   "start_time": "2022-11-19T02:05:12.412204",
   "version": "2.3.4"
  }
 },
 "nbformat": 4,
 "nbformat_minor": 5
}
