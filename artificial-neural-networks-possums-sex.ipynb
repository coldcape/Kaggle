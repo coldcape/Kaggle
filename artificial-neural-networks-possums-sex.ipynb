{
 "cells": [
  {
   "cell_type": "code",
   "execution_count": 1,
   "id": "d2b8ce96",
   "metadata": {
    "_cell_guid": "b1076dfc-b9ad-4769-8c92-a6c4dae69d19",
    "_uuid": "8f2839f25d086af736a60e9eeb907d3b93b6e0e5",
    "execution": {
     "iopub.execute_input": "2022-11-19T02:08:46.634741Z",
     "iopub.status.busy": "2022-11-19T02:08:46.633336Z",
     "iopub.status.idle": "2022-11-19T02:08:46.658263Z",
     "shell.execute_reply": "2022-11-19T02:08:46.656523Z"
    },
    "papermill": {
     "duration": 0.041332,
     "end_time": "2022-11-19T02:08:46.660962",
     "exception": false,
     "start_time": "2022-11-19T02:08:46.619630",
     "status": "completed"
    },
    "tags": []
   },
   "outputs": [
    {
     "name": "stdout",
     "output_type": "stream",
     "text": [
      "/kaggle/input/openintro-possum/possum.csv\n"
     ]
    }
   ],
   "source": [
    "# This Python 3 environment comes with many helpful analytics libraries installed\n",
    "# It is defined by the kaggle/python Docker image: https://github.com/kaggle/docker-python\n",
    "# For example, here's several helpful packages to load\n",
    "\n",
    "import numpy as np # linear algebra\n",
    "import pandas as pd # data processing, CSV file I/O (e.g. pd.read_csv)\n",
    "\n",
    "# Input data files are available in the read-only \"../input/\" directory\n",
    "# For example, running this (by clicking run or pressing Shift+Enter) will list all files under the input directory\n",
    "\n",
    "import os\n",
    "for dirname, _, filenames in os.walk('/kaggle/input'):\n",
    "    for filename in filenames:\n",
    "        print(os.path.join(dirname, filename))\n",
    "\n",
    "# You can write up to 20GB to the current directory (/kaggle/working/) that gets preserved as output when you create a version using \"Save & Run All\" \n",
    "# You can also write temporary files to /kaggle/temp/, but they won't be saved outside of the current session"
   ]
  },
  {
   "cell_type": "code",
   "execution_count": 2,
   "id": "68ab3811",
   "metadata": {
    "execution": {
     "iopub.execute_input": "2022-11-19T02:08:46.679495Z",
     "iopub.status.busy": "2022-11-19T02:08:46.678582Z",
     "iopub.status.idle": "2022-11-19T02:08:46.733008Z",
     "shell.execute_reply": "2022-11-19T02:08:46.731697Z"
    },
    "papermill": {
     "duration": 0.067899,
     "end_time": "2022-11-19T02:08:46.735522",
     "exception": false,
     "start_time": "2022-11-19T02:08:46.667623",
     "status": "completed"
    },
    "tags": []
   },
   "outputs": [
    {
     "data": {
      "text/html": [
       "<div>\n",
       "<style scoped>\n",
       "    .dataframe tbody tr th:only-of-type {\n",
       "        vertical-align: middle;\n",
       "    }\n",
       "\n",
       "    .dataframe tbody tr th {\n",
       "        vertical-align: top;\n",
       "    }\n",
       "\n",
       "    .dataframe thead th {\n",
       "        text-align: right;\n",
       "    }\n",
       "</style>\n",
       "<table border=\"1\" class=\"dataframe\">\n",
       "  <thead>\n",
       "    <tr style=\"text-align: right;\">\n",
       "      <th></th>\n",
       "      <th>case</th>\n",
       "      <th>site</th>\n",
       "      <th>Pop</th>\n",
       "      <th>sex</th>\n",
       "      <th>age</th>\n",
       "      <th>hdlngth</th>\n",
       "      <th>skullw</th>\n",
       "      <th>totlngth</th>\n",
       "      <th>taill</th>\n",
       "      <th>footlgth</th>\n",
       "      <th>earconch</th>\n",
       "      <th>eye</th>\n",
       "      <th>chest</th>\n",
       "      <th>belly</th>\n",
       "    </tr>\n",
       "  </thead>\n",
       "  <tbody>\n",
       "    <tr>\n",
       "      <th>0</th>\n",
       "      <td>1</td>\n",
       "      <td>1</td>\n",
       "      <td>Vic</td>\n",
       "      <td>m</td>\n",
       "      <td>8.0</td>\n",
       "      <td>94.1</td>\n",
       "      <td>60.4</td>\n",
       "      <td>89.0</td>\n",
       "      <td>36.0</td>\n",
       "      <td>74.5</td>\n",
       "      <td>54.5</td>\n",
       "      <td>15.2</td>\n",
       "      <td>28.0</td>\n",
       "      <td>36.0</td>\n",
       "    </tr>\n",
       "    <tr>\n",
       "      <th>1</th>\n",
       "      <td>2</td>\n",
       "      <td>1</td>\n",
       "      <td>Vic</td>\n",
       "      <td>f</td>\n",
       "      <td>6.0</td>\n",
       "      <td>92.5</td>\n",
       "      <td>57.6</td>\n",
       "      <td>91.5</td>\n",
       "      <td>36.5</td>\n",
       "      <td>72.5</td>\n",
       "      <td>51.2</td>\n",
       "      <td>16.0</td>\n",
       "      <td>28.5</td>\n",
       "      <td>33.0</td>\n",
       "    </tr>\n",
       "    <tr>\n",
       "      <th>2</th>\n",
       "      <td>3</td>\n",
       "      <td>1</td>\n",
       "      <td>Vic</td>\n",
       "      <td>f</td>\n",
       "      <td>6.0</td>\n",
       "      <td>94.0</td>\n",
       "      <td>60.0</td>\n",
       "      <td>95.5</td>\n",
       "      <td>39.0</td>\n",
       "      <td>75.4</td>\n",
       "      <td>51.9</td>\n",
       "      <td>15.5</td>\n",
       "      <td>30.0</td>\n",
       "      <td>34.0</td>\n",
       "    </tr>\n",
       "    <tr>\n",
       "      <th>3</th>\n",
       "      <td>4</td>\n",
       "      <td>1</td>\n",
       "      <td>Vic</td>\n",
       "      <td>f</td>\n",
       "      <td>6.0</td>\n",
       "      <td>93.2</td>\n",
       "      <td>57.1</td>\n",
       "      <td>92.0</td>\n",
       "      <td>38.0</td>\n",
       "      <td>76.1</td>\n",
       "      <td>52.2</td>\n",
       "      <td>15.2</td>\n",
       "      <td>28.0</td>\n",
       "      <td>34.0</td>\n",
       "    </tr>\n",
       "    <tr>\n",
       "      <th>4</th>\n",
       "      <td>5</td>\n",
       "      <td>1</td>\n",
       "      <td>Vic</td>\n",
       "      <td>f</td>\n",
       "      <td>2.0</td>\n",
       "      <td>91.5</td>\n",
       "      <td>56.3</td>\n",
       "      <td>85.5</td>\n",
       "      <td>36.0</td>\n",
       "      <td>71.0</td>\n",
       "      <td>53.2</td>\n",
       "      <td>15.1</td>\n",
       "      <td>28.5</td>\n",
       "      <td>33.0</td>\n",
       "    </tr>\n",
       "  </tbody>\n",
       "</table>\n",
       "</div>"
      ],
      "text/plain": [
       "   case  site  Pop sex  age  hdlngth  skullw  totlngth  taill  footlgth  \\\n",
       "0     1     1  Vic   m  8.0     94.1    60.4      89.0   36.0      74.5   \n",
       "1     2     1  Vic   f  6.0     92.5    57.6      91.5   36.5      72.5   \n",
       "2     3     1  Vic   f  6.0     94.0    60.0      95.5   39.0      75.4   \n",
       "3     4     1  Vic   f  6.0     93.2    57.1      92.0   38.0      76.1   \n",
       "4     5     1  Vic   f  2.0     91.5    56.3      85.5   36.0      71.0   \n",
       "\n",
       "   earconch   eye  chest  belly  \n",
       "0      54.5  15.2   28.0   36.0  \n",
       "1      51.2  16.0   28.5   33.0  \n",
       "2      51.9  15.5   30.0   34.0  \n",
       "3      52.2  15.2   28.0   34.0  \n",
       "4      53.2  15.1   28.5   33.0  "
      ]
     },
     "execution_count": 2,
     "metadata": {},
     "output_type": "execute_result"
    }
   ],
   "source": [
    "# Loading the datasit through pandas\n",
    "dataset = pd.read_csv('../input/openintro-possum/possum.csv')\n",
    "\n",
    "# Showing the first five rows in the dataset\n",
    "dataset.head()"
   ]
  },
  {
   "cell_type": "code",
   "execution_count": 3,
   "id": "98e45309",
   "metadata": {
    "execution": {
     "iopub.execute_input": "2022-11-19T02:08:46.749609Z",
     "iopub.status.busy": "2022-11-19T02:08:46.748558Z",
     "iopub.status.idle": "2022-11-19T02:08:46.777237Z",
     "shell.execute_reply": "2022-11-19T02:08:46.776052Z"
    },
    "papermill": {
     "duration": 0.038745,
     "end_time": "2022-11-19T02:08:46.780139",
     "exception": false,
     "start_time": "2022-11-19T02:08:46.741394",
     "status": "completed"
    },
    "tags": []
   },
   "outputs": [
    {
     "name": "stdout",
     "output_type": "stream",
     "text": [
      "<class 'pandas.core.frame.DataFrame'>\n",
      "RangeIndex: 104 entries, 0 to 103\n",
      "Data columns (total 14 columns):\n",
      " #   Column    Non-Null Count  Dtype  \n",
      "---  ------    --------------  -----  \n",
      " 0   case      104 non-null    int64  \n",
      " 1   site      104 non-null    int64  \n",
      " 2   Pop       104 non-null    object \n",
      " 3   sex       104 non-null    object \n",
      " 4   age       102 non-null    float64\n",
      " 5   hdlngth   104 non-null    float64\n",
      " 6   skullw    104 non-null    float64\n",
      " 7   totlngth  104 non-null    float64\n",
      " 8   taill     104 non-null    float64\n",
      " 9   footlgth  103 non-null    float64\n",
      " 10  earconch  104 non-null    float64\n",
      " 11  eye       104 non-null    float64\n",
      " 12  chest     104 non-null    float64\n",
      " 13  belly     104 non-null    float64\n",
      "dtypes: float64(10), int64(2), object(2)\n",
      "memory usage: 11.5+ KB\n"
     ]
    }
   ],
   "source": [
    "# Shows types of data there are\n",
    "dataset.info()"
   ]
  },
  {
   "cell_type": "code",
   "execution_count": 4,
   "id": "220ae425",
   "metadata": {
    "execution": {
     "iopub.execute_input": "2022-11-19T02:08:46.794221Z",
     "iopub.status.busy": "2022-11-19T02:08:46.793808Z",
     "iopub.status.idle": "2022-11-19T02:08:46.803671Z",
     "shell.execute_reply": "2022-11-19T02:08:46.802420Z"
    },
    "papermill": {
     "duration": 0.022546,
     "end_time": "2022-11-19T02:08:46.808656",
     "exception": false,
     "start_time": "2022-11-19T02:08:46.786110",
     "status": "completed"
    },
    "tags": []
   },
   "outputs": [
    {
     "data": {
      "text/plain": [
       "case        0\n",
       "site        0\n",
       "Pop         0\n",
       "sex         0\n",
       "age         2\n",
       "hdlngth     0\n",
       "skullw      0\n",
       "totlngth    0\n",
       "taill       0\n",
       "footlgth    1\n",
       "earconch    0\n",
       "eye         0\n",
       "chest       0\n",
       "belly       0\n",
       "dtype: int64"
      ]
     },
     "execution_count": 4,
     "metadata": {},
     "output_type": "execute_result"
    }
   ],
   "source": [
    "dataset.isna().sum()"
   ]
  },
  {
   "cell_type": "code",
   "execution_count": 5,
   "id": "07fac7d3",
   "metadata": {
    "execution": {
     "iopub.execute_input": "2022-11-19T02:08:46.827065Z",
     "iopub.status.busy": "2022-11-19T02:08:46.826312Z",
     "iopub.status.idle": "2022-11-19T02:08:46.837324Z",
     "shell.execute_reply": "2022-11-19T02:08:46.835731Z"
    },
    "papermill": {
     "duration": 0.023571,
     "end_time": "2022-11-19T02:08:46.840430",
     "exception": false,
     "start_time": "2022-11-19T02:08:46.816859",
     "status": "completed"
    },
    "tags": []
   },
   "outputs": [],
   "source": [
    "dataset = dataset.dropna()"
   ]
  },
  {
   "cell_type": "code",
   "execution_count": 6,
   "id": "46f86be1",
   "metadata": {
    "execution": {
     "iopub.execute_input": "2022-11-19T02:08:46.856719Z",
     "iopub.status.busy": "2022-11-19T02:08:46.855119Z",
     "iopub.status.idle": "2022-11-19T02:08:46.866485Z",
     "shell.execute_reply": "2022-11-19T02:08:46.865266Z"
    },
    "papermill": {
     "duration": 0.021748,
     "end_time": "2022-11-19T02:08:46.868736",
     "exception": false,
     "start_time": "2022-11-19T02:08:46.846988",
     "status": "completed"
    },
    "tags": []
   },
   "outputs": [
    {
     "data": {
      "text/plain": [
       "case        0\n",
       "site        0\n",
       "Pop         0\n",
       "sex         0\n",
       "age         0\n",
       "hdlngth     0\n",
       "skullw      0\n",
       "totlngth    0\n",
       "taill       0\n",
       "footlgth    0\n",
       "earconch    0\n",
       "eye         0\n",
       "chest       0\n",
       "belly       0\n",
       "dtype: int64"
      ]
     },
     "execution_count": 6,
     "metadata": {},
     "output_type": "execute_result"
    }
   ],
   "source": [
    "dataset.isna().sum()"
   ]
  },
  {
   "cell_type": "code",
   "execution_count": 7,
   "id": "1792a95a",
   "metadata": {
    "execution": {
     "iopub.execute_input": "2022-11-19T02:08:46.886019Z",
     "iopub.status.busy": "2022-11-19T02:08:46.885226Z",
     "iopub.status.idle": "2022-11-19T02:08:46.903651Z",
     "shell.execute_reply": "2022-11-19T02:08:46.902543Z"
    },
    "papermill": {
     "duration": 0.031009,
     "end_time": "2022-11-19T02:08:46.906738",
     "exception": false,
     "start_time": "2022-11-19T02:08:46.875729",
     "status": "completed"
    },
    "tags": []
   },
   "outputs": [
    {
     "data": {
      "text/html": [
       "<div>\n",
       "<style scoped>\n",
       "    .dataframe tbody tr th:only-of-type {\n",
       "        vertical-align: middle;\n",
       "    }\n",
       "\n",
       "    .dataframe tbody tr th {\n",
       "        vertical-align: top;\n",
       "    }\n",
       "\n",
       "    .dataframe thead th {\n",
       "        text-align: right;\n",
       "    }\n",
       "</style>\n",
       "<table border=\"1\" class=\"dataframe\">\n",
       "  <thead>\n",
       "    <tr style=\"text-align: right;\">\n",
       "      <th></th>\n",
       "      <th>f</th>\n",
       "      <th>m</th>\n",
       "    </tr>\n",
       "  </thead>\n",
       "  <tbody>\n",
       "    <tr>\n",
       "      <th>0</th>\n",
       "      <td>0</td>\n",
       "      <td>1</td>\n",
       "    </tr>\n",
       "    <tr>\n",
       "      <th>1</th>\n",
       "      <td>1</td>\n",
       "      <td>0</td>\n",
       "    </tr>\n",
       "    <tr>\n",
       "      <th>2</th>\n",
       "      <td>1</td>\n",
       "      <td>0</td>\n",
       "    </tr>\n",
       "    <tr>\n",
       "      <th>3</th>\n",
       "      <td>1</td>\n",
       "      <td>0</td>\n",
       "    </tr>\n",
       "    <tr>\n",
       "      <th>4</th>\n",
       "      <td>1</td>\n",
       "      <td>0</td>\n",
       "    </tr>\n",
       "  </tbody>\n",
       "</table>\n",
       "</div>"
      ],
      "text/plain": [
       "   f  m\n",
       "0  0  1\n",
       "1  1  0\n",
       "2  1  0\n",
       "3  1  0\n",
       "4  1  0"
      ]
     },
     "execution_count": 7,
     "metadata": {},
     "output_type": "execute_result"
    }
   ],
   "source": [
    "features = dataset.drop('sex',axis=1)\n",
    "targets = dataset['sex']\n",
    "\n",
    "targets_onehot = pd.get_dummies(targets)\n",
    "targets_onehot.head()"
   ]
  },
  {
   "cell_type": "code",
   "execution_count": 8,
   "id": "f6d5836c",
   "metadata": {
    "execution": {
     "iopub.execute_input": "2022-11-19T02:08:46.923410Z",
     "iopub.status.busy": "2022-11-19T02:08:46.922754Z",
     "iopub.status.idle": "2022-11-19T02:08:46.948184Z",
     "shell.execute_reply": "2022-11-19T02:08:46.946872Z"
    },
    "papermill": {
     "duration": 0.037357,
     "end_time": "2022-11-19T02:08:46.950614",
     "exception": false,
     "start_time": "2022-11-19T02:08:46.913257",
     "status": "completed"
    },
    "tags": []
   },
   "outputs": [
    {
     "data": {
      "text/html": [
       "<div>\n",
       "<style scoped>\n",
       "    .dataframe tbody tr th:only-of-type {\n",
       "        vertical-align: middle;\n",
       "    }\n",
       "\n",
       "    .dataframe tbody tr th {\n",
       "        vertical-align: top;\n",
       "    }\n",
       "\n",
       "    .dataframe thead th {\n",
       "        text-align: right;\n",
       "    }\n",
       "</style>\n",
       "<table border=\"1\" class=\"dataframe\">\n",
       "  <thead>\n",
       "    <tr style=\"text-align: right;\">\n",
       "      <th></th>\n",
       "      <th>case</th>\n",
       "      <th>site</th>\n",
       "      <th>age</th>\n",
       "      <th>hdlngth</th>\n",
       "      <th>skullw</th>\n",
       "      <th>totlngth</th>\n",
       "      <th>taill</th>\n",
       "      <th>footlgth</th>\n",
       "      <th>earconch</th>\n",
       "      <th>eye</th>\n",
       "      <th>chest</th>\n",
       "      <th>belly</th>\n",
       "      <th>Pop_Vic</th>\n",
       "      <th>Pop_other</th>\n",
       "    </tr>\n",
       "  </thead>\n",
       "  <tbody>\n",
       "    <tr>\n",
       "      <th>0</th>\n",
       "      <td>1</td>\n",
       "      <td>1</td>\n",
       "      <td>8.0</td>\n",
       "      <td>94.1</td>\n",
       "      <td>60.4</td>\n",
       "      <td>89.0</td>\n",
       "      <td>36.0</td>\n",
       "      <td>74.5</td>\n",
       "      <td>54.5</td>\n",
       "      <td>15.2</td>\n",
       "      <td>28.0</td>\n",
       "      <td>36.0</td>\n",
       "      <td>1</td>\n",
       "      <td>0</td>\n",
       "    </tr>\n",
       "    <tr>\n",
       "      <th>1</th>\n",
       "      <td>2</td>\n",
       "      <td>1</td>\n",
       "      <td>6.0</td>\n",
       "      <td>92.5</td>\n",
       "      <td>57.6</td>\n",
       "      <td>91.5</td>\n",
       "      <td>36.5</td>\n",
       "      <td>72.5</td>\n",
       "      <td>51.2</td>\n",
       "      <td>16.0</td>\n",
       "      <td>28.5</td>\n",
       "      <td>33.0</td>\n",
       "      <td>1</td>\n",
       "      <td>0</td>\n",
       "    </tr>\n",
       "    <tr>\n",
       "      <th>2</th>\n",
       "      <td>3</td>\n",
       "      <td>1</td>\n",
       "      <td>6.0</td>\n",
       "      <td>94.0</td>\n",
       "      <td>60.0</td>\n",
       "      <td>95.5</td>\n",
       "      <td>39.0</td>\n",
       "      <td>75.4</td>\n",
       "      <td>51.9</td>\n",
       "      <td>15.5</td>\n",
       "      <td>30.0</td>\n",
       "      <td>34.0</td>\n",
       "      <td>1</td>\n",
       "      <td>0</td>\n",
       "    </tr>\n",
       "    <tr>\n",
       "      <th>3</th>\n",
       "      <td>4</td>\n",
       "      <td>1</td>\n",
       "      <td>6.0</td>\n",
       "      <td>93.2</td>\n",
       "      <td>57.1</td>\n",
       "      <td>92.0</td>\n",
       "      <td>38.0</td>\n",
       "      <td>76.1</td>\n",
       "      <td>52.2</td>\n",
       "      <td>15.2</td>\n",
       "      <td>28.0</td>\n",
       "      <td>34.0</td>\n",
       "      <td>1</td>\n",
       "      <td>0</td>\n",
       "    </tr>\n",
       "    <tr>\n",
       "      <th>4</th>\n",
       "      <td>5</td>\n",
       "      <td>1</td>\n",
       "      <td>2.0</td>\n",
       "      <td>91.5</td>\n",
       "      <td>56.3</td>\n",
       "      <td>85.5</td>\n",
       "      <td>36.0</td>\n",
       "      <td>71.0</td>\n",
       "      <td>53.2</td>\n",
       "      <td>15.1</td>\n",
       "      <td>28.5</td>\n",
       "      <td>33.0</td>\n",
       "      <td>1</td>\n",
       "      <td>0</td>\n",
       "    </tr>\n",
       "  </tbody>\n",
       "</table>\n",
       "</div>"
      ],
      "text/plain": [
       "   case  site  age  hdlngth  skullw  totlngth  taill  footlgth  earconch  \\\n",
       "0     1     1  8.0     94.1    60.4      89.0   36.0      74.5      54.5   \n",
       "1     2     1  6.0     92.5    57.6      91.5   36.5      72.5      51.2   \n",
       "2     3     1  6.0     94.0    60.0      95.5   39.0      75.4      51.9   \n",
       "3     4     1  6.0     93.2    57.1      92.0   38.0      76.1      52.2   \n",
       "4     5     1  2.0     91.5    56.3      85.5   36.0      71.0      53.2   \n",
       "\n",
       "    eye  chest  belly  Pop_Vic  Pop_other  \n",
       "0  15.2   28.0   36.0        1          0  \n",
       "1  16.0   28.5   33.0        1          0  \n",
       "2  15.5   30.0   34.0        1          0  \n",
       "3  15.2   28.0   34.0        1          0  \n",
       "4  15.1   28.5   33.0        1          0  "
      ]
     },
     "execution_count": 8,
     "metadata": {},
     "output_type": "execute_result"
    }
   ],
   "source": [
    "features_onehot = pd.get_dummies(features)\n",
    "features_onehot.head()"
   ]
  },
  {
   "cell_type": "code",
   "execution_count": 9,
   "id": "90bc7e11",
   "metadata": {
    "execution": {
     "iopub.execute_input": "2022-11-19T02:08:46.965792Z",
     "iopub.status.busy": "2022-11-19T02:08:46.965335Z",
     "iopub.status.idle": "2022-11-19T02:08:46.981988Z",
     "shell.execute_reply": "2022-11-19T02:08:46.980432Z"
    },
    "papermill": {
     "duration": 0.027233,
     "end_time": "2022-11-19T02:08:46.984387",
     "exception": false,
     "start_time": "2022-11-19T02:08:46.957154",
     "status": "completed"
    },
    "tags": []
   },
   "outputs": [
    {
     "name": "stdout",
     "output_type": "stream",
     "text": [
      "<class 'pandas.core.frame.DataFrame'>\n",
      "Int64Index: 101 entries, 0 to 103\n",
      "Data columns (total 14 columns):\n",
      " #   Column     Non-Null Count  Dtype  \n",
      "---  ------     --------------  -----  \n",
      " 0   case       101 non-null    float32\n",
      " 1   site       101 non-null    float32\n",
      " 2   age        101 non-null    float32\n",
      " 3   hdlngth    101 non-null    float32\n",
      " 4   skullw     101 non-null    float32\n",
      " 5   totlngth   101 non-null    float32\n",
      " 6   taill      101 non-null    float32\n",
      " 7   footlgth   101 non-null    float32\n",
      " 8   earconch   101 non-null    float32\n",
      " 9   eye        101 non-null    float32\n",
      " 10  chest      101 non-null    float32\n",
      " 11  belly      101 non-null    float32\n",
      " 12  Pop_Vic    101 non-null    float32\n",
      " 13  Pop_other  101 non-null    float32\n",
      "dtypes: float32(14)\n",
      "memory usage: 6.3 KB\n"
     ]
    }
   ],
   "source": [
    "targets_onehot = targets_onehot.astype('float32')\n",
    "features_onehot = features_onehot.astype('float32')\n",
    "\n",
    "features_onehot.info()"
   ]
  },
  {
   "cell_type": "code",
   "execution_count": 10,
   "id": "f22be222",
   "metadata": {
    "execution": {
     "iopub.execute_input": "2022-11-19T02:08:47.007062Z",
     "iopub.status.busy": "2022-11-19T02:08:47.005963Z",
     "iopub.status.idle": "2022-11-19T02:08:47.068216Z",
     "shell.execute_reply": "2022-11-19T02:08:47.067005Z"
    },
    "papermill": {
     "duration": 0.07659,
     "end_time": "2022-11-19T02:08:47.070894",
     "exception": false,
     "start_time": "2022-11-19T02:08:46.994304",
     "status": "completed"
    },
    "tags": []
   },
   "outputs": [
    {
     "data": {
      "text/html": [
       "<div>\n",
       "<style scoped>\n",
       "    .dataframe tbody tr th:only-of-type {\n",
       "        vertical-align: middle;\n",
       "    }\n",
       "\n",
       "    .dataframe tbody tr th {\n",
       "        vertical-align: top;\n",
       "    }\n",
       "\n",
       "    .dataframe thead th {\n",
       "        text-align: right;\n",
       "    }\n",
       "</style>\n",
       "<table border=\"1\" class=\"dataframe\">\n",
       "  <thead>\n",
       "    <tr style=\"text-align: right;\">\n",
       "      <th></th>\n",
       "      <th>case</th>\n",
       "      <th>site</th>\n",
       "      <th>age</th>\n",
       "      <th>hdlngth</th>\n",
       "      <th>skullw</th>\n",
       "      <th>totlngth</th>\n",
       "      <th>taill</th>\n",
       "      <th>footlgth</th>\n",
       "      <th>earconch</th>\n",
       "      <th>eye</th>\n",
       "      <th>chest</th>\n",
       "      <th>belly</th>\n",
       "      <th>Pop_Vic</th>\n",
       "      <th>Pop_other</th>\n",
       "    </tr>\n",
       "  </thead>\n",
       "  <tbody>\n",
       "    <tr>\n",
       "      <th>count</th>\n",
       "      <td>101.000000</td>\n",
       "      <td>101.000000</td>\n",
       "      <td>101.000000</td>\n",
       "      <td>101.000000</td>\n",
       "      <td>101.000000</td>\n",
       "      <td>101.000000</td>\n",
       "      <td>101.000000</td>\n",
       "      <td>101.000000</td>\n",
       "      <td>101.000000</td>\n",
       "      <td>101.000000</td>\n",
       "      <td>101.000000</td>\n",
       "      <td>101.000000</td>\n",
       "      <td>101.000000</td>\n",
       "      <td>101.000000</td>\n",
       "    </tr>\n",
       "    <tr>\n",
       "      <th>mean</th>\n",
       "      <td>52.762375</td>\n",
       "      <td>3.673267</td>\n",
       "      <td>3.821782</td>\n",
       "      <td>92.730690</td>\n",
       "      <td>56.960400</td>\n",
       "      <td>87.269310</td>\n",
       "      <td>37.049503</td>\n",
       "      <td>68.398018</td>\n",
       "      <td>48.133656</td>\n",
       "      <td>15.050496</td>\n",
       "      <td>27.064356</td>\n",
       "      <td>32.638615</td>\n",
       "      <td>0.425743</td>\n",
       "      <td>0.574257</td>\n",
       "    </tr>\n",
       "    <tr>\n",
       "      <th>std</th>\n",
       "      <td>30.573895</td>\n",
       "      <td>2.366892</td>\n",
       "      <td>1.915182</td>\n",
       "      <td>3.518714</td>\n",
       "      <td>3.102679</td>\n",
       "      <td>4.196802</td>\n",
       "      <td>1.971681</td>\n",
       "      <td>4.413502</td>\n",
       "      <td>4.060352</td>\n",
       "      <td>1.058643</td>\n",
       "      <td>2.020722</td>\n",
       "      <td>2.727745</td>\n",
       "      <td>0.496921</td>\n",
       "      <td>0.496921</td>\n",
       "    </tr>\n",
       "    <tr>\n",
       "      <th>min</th>\n",
       "      <td>1.000000</td>\n",
       "      <td>1.000000</td>\n",
       "      <td>1.000000</td>\n",
       "      <td>82.500000</td>\n",
       "      <td>50.000000</td>\n",
       "      <td>75.000000</td>\n",
       "      <td>32.000000</td>\n",
       "      <td>60.299999</td>\n",
       "      <td>41.299999</td>\n",
       "      <td>12.800000</td>\n",
       "      <td>22.000000</td>\n",
       "      <td>25.000000</td>\n",
       "      <td>0.000000</td>\n",
       "      <td>0.000000</td>\n",
       "    </tr>\n",
       "    <tr>\n",
       "      <th>25%</th>\n",
       "      <td>26.000000</td>\n",
       "      <td>1.000000</td>\n",
       "      <td>2.000000</td>\n",
       "      <td>90.699997</td>\n",
       "      <td>55.000000</td>\n",
       "      <td>84.500000</td>\n",
       "      <td>36.000000</td>\n",
       "      <td>64.500000</td>\n",
       "      <td>44.799999</td>\n",
       "      <td>14.400000</td>\n",
       "      <td>25.500000</td>\n",
       "      <td>31.000000</td>\n",
       "      <td>0.000000</td>\n",
       "      <td>0.000000</td>\n",
       "    </tr>\n",
       "    <tr>\n",
       "      <th>50%</th>\n",
       "      <td>54.000000</td>\n",
       "      <td>4.000000</td>\n",
       "      <td>3.000000</td>\n",
       "      <td>92.900002</td>\n",
       "      <td>56.400002</td>\n",
       "      <td>88.000000</td>\n",
       "      <td>37.000000</td>\n",
       "      <td>67.900002</td>\n",
       "      <td>46.799999</td>\n",
       "      <td>14.900000</td>\n",
       "      <td>27.000000</td>\n",
       "      <td>32.500000</td>\n",
       "      <td>0.000000</td>\n",
       "      <td>1.000000</td>\n",
       "    </tr>\n",
       "    <tr>\n",
       "      <th>75%</th>\n",
       "      <td>79.000000</td>\n",
       "      <td>6.000000</td>\n",
       "      <td>5.000000</td>\n",
       "      <td>94.800003</td>\n",
       "      <td>58.099998</td>\n",
       "      <td>90.000000</td>\n",
       "      <td>38.000000</td>\n",
       "      <td>72.500000</td>\n",
       "      <td>52.000000</td>\n",
       "      <td>15.700000</td>\n",
       "      <td>28.000000</td>\n",
       "      <td>34.000000</td>\n",
       "      <td>1.000000</td>\n",
       "      <td>1.000000</td>\n",
       "    </tr>\n",
       "    <tr>\n",
       "      <th>max</th>\n",
       "      <td>104.000000</td>\n",
       "      <td>7.000000</td>\n",
       "      <td>9.000000</td>\n",
       "      <td>103.099998</td>\n",
       "      <td>68.599998</td>\n",
       "      <td>96.500000</td>\n",
       "      <td>43.000000</td>\n",
       "      <td>77.900002</td>\n",
       "      <td>56.200001</td>\n",
       "      <td>17.799999</td>\n",
       "      <td>32.000000</td>\n",
       "      <td>40.000000</td>\n",
       "      <td>1.000000</td>\n",
       "      <td>1.000000</td>\n",
       "    </tr>\n",
       "  </tbody>\n",
       "</table>\n",
       "</div>"
      ],
      "text/plain": [
       "             case        site         age     hdlngth      skullw    totlngth  \\\n",
       "count  101.000000  101.000000  101.000000  101.000000  101.000000  101.000000   \n",
       "mean    52.762375    3.673267    3.821782   92.730690   56.960400   87.269310   \n",
       "std     30.573895    2.366892    1.915182    3.518714    3.102679    4.196802   \n",
       "min      1.000000    1.000000    1.000000   82.500000   50.000000   75.000000   \n",
       "25%     26.000000    1.000000    2.000000   90.699997   55.000000   84.500000   \n",
       "50%     54.000000    4.000000    3.000000   92.900002   56.400002   88.000000   \n",
       "75%     79.000000    6.000000    5.000000   94.800003   58.099998   90.000000   \n",
       "max    104.000000    7.000000    9.000000  103.099998   68.599998   96.500000   \n",
       "\n",
       "            taill    footlgth    earconch         eye       chest       belly  \\\n",
       "count  101.000000  101.000000  101.000000  101.000000  101.000000  101.000000   \n",
       "mean    37.049503   68.398018   48.133656   15.050496   27.064356   32.638615   \n",
       "std      1.971681    4.413502    4.060352    1.058643    2.020722    2.727745   \n",
       "min     32.000000   60.299999   41.299999   12.800000   22.000000   25.000000   \n",
       "25%     36.000000   64.500000   44.799999   14.400000   25.500000   31.000000   \n",
       "50%     37.000000   67.900002   46.799999   14.900000   27.000000   32.500000   \n",
       "75%     38.000000   72.500000   52.000000   15.700000   28.000000   34.000000   \n",
       "max     43.000000   77.900002   56.200001   17.799999   32.000000   40.000000   \n",
       "\n",
       "          Pop_Vic   Pop_other  \n",
       "count  101.000000  101.000000  \n",
       "mean     0.425743    0.574257  \n",
       "std      0.496921    0.496921  \n",
       "min      0.000000    0.000000  \n",
       "25%      0.000000    0.000000  \n",
       "50%      0.000000    1.000000  \n",
       "75%      1.000000    1.000000  \n",
       "max      1.000000    1.000000  "
      ]
     },
     "execution_count": 10,
     "metadata": {},
     "output_type": "execute_result"
    }
   ],
   "source": [
    "features_onehot.describe()"
   ]
  },
  {
   "cell_type": "code",
   "execution_count": 11,
   "id": "20fa6056",
   "metadata": {
    "execution": {
     "iopub.execute_input": "2022-11-19T02:08:47.090275Z",
     "iopub.status.busy": "2022-11-19T02:08:47.089085Z",
     "iopub.status.idle": "2022-11-19T02:08:48.327557Z",
     "shell.execute_reply": "2022-11-19T02:08:48.326005Z"
    },
    "papermill": {
     "duration": 1.249731,
     "end_time": "2022-11-19T02:08:48.330318",
     "exception": false,
     "start_time": "2022-11-19T02:08:47.080587",
     "status": "completed"
    },
    "tags": []
   },
   "outputs": [
    {
     "data": {
      "text/plain": [
       "f    m  \n",
       "0.0  1.0    53\n",
       "1.0  0.0    37\n",
       "dtype: int64"
      ]
     },
     "execution_count": 11,
     "metadata": {},
     "output_type": "execute_result"
    }
   ],
   "source": [
    "from sklearn.model_selection import train_test_split\n",
    "\n",
    "train_features, test_features, train_targets, test_targets = train_test_split(features_onehot, targets_onehot, test_size=0.1, stratify=targets)\n",
    "train_targets.value_counts()"
   ]
  },
  {
   "cell_type": "code",
   "execution_count": 12,
   "id": "4376d129",
   "metadata": {
    "execution": {
     "iopub.execute_input": "2022-11-19T02:08:48.347426Z",
     "iopub.status.busy": "2022-11-19T02:08:48.346716Z",
     "iopub.status.idle": "2022-11-19T02:08:48.358955Z",
     "shell.execute_reply": "2022-11-19T02:08:48.357304Z"
    },
    "papermill": {
     "duration": 0.024014,
     "end_time": "2022-11-19T02:08:48.361684",
     "exception": false,
     "start_time": "2022-11-19T02:08:48.337670",
     "status": "completed"
    },
    "tags": []
   },
   "outputs": [
    {
     "data": {
      "text/plain": [
       "f    m  \n",
       "0.0  1.0    6\n",
       "1.0  0.0    5\n",
       "dtype: int64"
      ]
     },
     "execution_count": 12,
     "metadata": {},
     "output_type": "execute_result"
    }
   ],
   "source": [
    "test_targets.value_counts()"
   ]
  },
  {
   "cell_type": "code",
   "execution_count": 13,
   "id": "f8ebb6b6",
   "metadata": {
    "execution": {
     "iopub.execute_input": "2022-11-19T02:08:48.379548Z",
     "iopub.status.busy": "2022-11-19T02:08:48.379072Z",
     "iopub.status.idle": "2022-11-19T02:08:54.399091Z",
     "shell.execute_reply": "2022-11-19T02:08:54.397722Z"
    },
    "papermill": {
     "duration": 6.032246,
     "end_time": "2022-11-19T02:08:54.401552",
     "exception": false,
     "start_time": "2022-11-19T02:08:48.369306",
     "status": "completed"
    },
    "tags": []
   },
   "outputs": [
    {
     "name": "stderr",
     "output_type": "stream",
     "text": [
      "2022-11-19 02:08:54.379831: I tensorflow/core/common_runtime/process_util.cc:146] Creating new thread pool with default inter op setting: 2. Tune using inter_op_parallelism_threads for best performance.\n"
     ]
    }
   ],
   "source": [
    "import tensorflow as tf\n",
    "\n",
    "train_features_tensor = tf.convert_to_tensor(train_features)\n",
    "test_features_tensor = tf.convert_to_tensor(test_features)\n",
    "train_targets_tensor = tf.convert_to_tensor(train_targets)\n",
    "test_targets_tensor = tf.convert_to_tensor(test_targets)\n",
    "tf.allow_soft_placement=True"
   ]
  },
  {
   "cell_type": "code",
   "execution_count": 14,
   "id": "e7a06d09",
   "metadata": {
    "execution": {
     "iopub.execute_input": "2022-11-19T02:08:54.419433Z",
     "iopub.status.busy": "2022-11-19T02:08:54.418551Z",
     "iopub.status.idle": "2022-11-19T02:08:54.442090Z",
     "shell.execute_reply": "2022-11-19T02:08:54.439931Z"
    },
    "papermill": {
     "duration": 0.035709,
     "end_time": "2022-11-19T02:08:54.444815",
     "exception": false,
     "start_time": "2022-11-19T02:08:54.409106",
     "status": "completed"
    },
    "tags": []
   },
   "outputs": [
    {
     "name": "stdout",
     "output_type": "stream",
     "text": [
      "<class 'pandas.core.frame.DataFrame'>\n",
      "Int64Index: 90 entries, 66 to 53\n",
      "Data columns (total 14 columns):\n",
      " #   Column     Non-Null Count  Dtype  \n",
      "---  ------     --------------  -----  \n",
      " 0   case       90 non-null     float32\n",
      " 1   site       90 non-null     float32\n",
      " 2   age        90 non-null     float32\n",
      " 3   hdlngth    90 non-null     float32\n",
      " 4   skullw     90 non-null     float32\n",
      " 5   totlngth   90 non-null     float32\n",
      " 6   taill      90 non-null     float32\n",
      " 7   footlgth   90 non-null     float32\n",
      " 8   earconch   90 non-null     float32\n",
      " 9   eye        90 non-null     float32\n",
      " 10  chest      90 non-null     float32\n",
      " 11  belly      90 non-null     float32\n",
      " 12  Pop_Vic    90 non-null     float32\n",
      " 13  Pop_other  90 non-null     float32\n",
      "dtypes: float32(14)\n",
      "memory usage: 5.6 KB\n",
      "<class 'pandas.core.frame.DataFrame'>\n",
      "Int64Index: 90 entries, 66 to 53\n",
      "Data columns (total 2 columns):\n",
      " #   Column  Non-Null Count  Dtype  \n",
      "---  ------  --------------  -----  \n",
      " 0   f       90 non-null     float32\n",
      " 1   m       90 non-null     float32\n",
      "dtypes: float32(2)\n",
      "memory usage: 1.4 KB\n"
     ]
    }
   ],
   "source": [
    "train_features.shape\n",
    "train_targets.shape\n",
    "train_features.info()\n",
    "train_targets.info()"
   ]
  },
  {
   "cell_type": "code",
   "execution_count": 15,
   "id": "f2f1388e",
   "metadata": {
    "execution": {
     "iopub.execute_input": "2022-11-19T02:08:54.462339Z",
     "iopub.status.busy": "2022-11-19T02:08:54.461881Z",
     "iopub.status.idle": "2022-11-19T02:08:54.468698Z",
     "shell.execute_reply": "2022-11-19T02:08:54.467389Z"
    },
    "papermill": {
     "duration": 0.018667,
     "end_time": "2022-11-19T02:08:54.471370",
     "exception": false,
     "start_time": "2022-11-19T02:08:54.452703",
     "status": "completed"
    },
    "tags": []
   },
   "outputs": [
    {
     "name": "stdout",
     "output_type": "stream",
     "text": [
      "14\n"
     ]
    }
   ],
   "source": [
    "input_shape = train_features.shape[1]\n",
    "print(input_shape)"
   ]
  },
  {
   "cell_type": "code",
   "execution_count": 16,
   "id": "07895d28",
   "metadata": {
    "execution": {
     "iopub.execute_input": "2022-11-19T02:08:54.488785Z",
     "iopub.status.busy": "2022-11-19T02:08:54.488333Z",
     "iopub.status.idle": "2022-11-19T02:08:56.071886Z",
     "shell.execute_reply": "2022-11-19T02:08:56.070247Z"
    },
    "papermill": {
     "duration": 1.59529,
     "end_time": "2022-11-19T02:08:56.074440",
     "exception": false,
     "start_time": "2022-11-19T02:08:54.479150",
     "status": "completed"
    },
    "tags": []
   },
   "outputs": [
    {
     "name": "stdout",
     "output_type": "stream",
     "text": [
      "Model: \"sequential\"\n",
      "_________________________________________________________________\n",
      "Layer (type)                 Output Shape              Param #   \n",
      "=================================================================\n",
      "dense (Dense)                (None, 20)                300       \n",
      "_________________________________________________________________\n",
      "dense_1 (Dense)              (None, 10)                210       \n",
      "_________________________________________________________________\n",
      "dense_2 (Dense)              (None, 2)                 22        \n",
      "_________________________________________________________________\n",
      "flatten (Flatten)            (None, 2)                 0         \n",
      "=================================================================\n",
      "Total params: 532\n",
      "Trainable params: 532\n",
      "Non-trainable params: 0\n",
      "_________________________________________________________________\n"
     ]
    }
   ],
   "source": [
    "from tensorflow.keras import Sequential\n",
    "from tensorflow.keras.layers import Dense\n",
    "from tensorflow.keras.layers import Flatten\n",
    "\n",
    "model = Sequential([\n",
    "    Dense(20, activation='sigmoid', input_shape = [14]),\n",
    "    Dense(10, activation='sigmoid'),\n",
    "    Dense(2, activation='sigmoid'),\n",
    "])\n",
    "model.add(Flatten())   ######\n",
    "model.compile(optimizer='adam', loss='binary_crossentropy', metrics=['accuracy'])  ######\n",
    "model.summary()"
   ]
  },
  {
   "cell_type": "code",
   "execution_count": 17,
   "id": "539e70ab",
   "metadata": {
    "execution": {
     "iopub.execute_input": "2022-11-19T02:08:56.092057Z",
     "iopub.status.busy": "2022-11-19T02:08:56.091626Z",
     "iopub.status.idle": "2022-11-19T02:08:56.097883Z",
     "shell.execute_reply": "2022-11-19T02:08:56.096502Z"
    },
    "papermill": {
     "duration": 0.019007,
     "end_time": "2022-11-19T02:08:56.101109",
     "exception": false,
     "start_time": "2022-11-19T02:08:56.082102",
     "status": "completed"
    },
    "tags": []
   },
   "outputs": [
    {
     "name": "stdout",
     "output_type": "stream",
     "text": [
      "(90, 14) (90, 2)\n"
     ]
    }
   ],
   "source": [
    "print(train_features_tensor.shape,\n",
    "train_targets_tensor.shape)"
   ]
  },
  {
   "cell_type": "code",
   "execution_count": 18,
   "id": "4a277a0c",
   "metadata": {
    "execution": {
     "iopub.execute_input": "2022-11-19T02:08:56.119470Z",
     "iopub.status.busy": "2022-11-19T02:08:56.119018Z",
     "iopub.status.idle": "2022-11-19T02:08:57.494602Z",
     "shell.execute_reply": "2022-11-19T02:08:57.493224Z"
    },
    "papermill": {
     "duration": 1.38861,
     "end_time": "2022-11-19T02:08:57.497657",
     "exception": false,
     "start_time": "2022-11-19T02:08:56.109047",
     "status": "completed"
    },
    "tags": []
   },
   "outputs": [
    {
     "name": "stdout",
     "output_type": "stream",
     "text": [
      "Epoch 1/10\n"
     ]
    },
    {
     "name": "stderr",
     "output_type": "stream",
     "text": [
      "2022-11-19 02:08:56.209090: I tensorflow/compiler/mlir/mlir_graph_optimization_pass.cc:185] None of the MLIR Optimization Passes are enabled (registered 2)\n"
     ]
    },
    {
     "name": "stdout",
     "output_type": "stream",
     "text": [
      "9/9 [==============================] - 1s 2ms/step - loss: 0.7015 - accuracy: 0.6222\n",
      "Epoch 2/10\n",
      "9/9 [==============================] - 0s 2ms/step - loss: 0.6927 - accuracy: 0.5889\n",
      "Epoch 3/10\n",
      "9/9 [==============================] - 0s 2ms/step - loss: 0.6863 - accuracy: 0.5889\n",
      "Epoch 4/10\n",
      "9/9 [==============================] - 0s 2ms/step - loss: 0.6794 - accuracy: 0.5889\n",
      "Epoch 5/10\n",
      "9/9 [==============================] - 0s 2ms/step - loss: 0.6764 - accuracy: 0.5889\n",
      "Epoch 6/10\n",
      "9/9 [==============================] - 0s 2ms/step - loss: 0.6730 - accuracy: 0.5889\n",
      "Epoch 7/10\n",
      "9/9 [==============================] - 0s 2ms/step - loss: 0.6696 - accuracy: 0.5889\n",
      "Epoch 8/10\n",
      "9/9 [==============================] - 0s 2ms/step - loss: 0.6667 - accuracy: 0.5889\n",
      "Epoch 9/10\n",
      "9/9 [==============================] - 0s 2ms/step - loss: 0.6643 - accuracy: 0.5889\n",
      "Epoch 10/10\n",
      "9/9 [==============================] - 0s 2ms/step - loss: 0.6634 - accuracy: 0.5889\n"
     ]
    },
    {
     "data": {
      "text/plain": [
       "<keras.callbacks.History at 0x7f81182623d0>"
      ]
     },
     "execution_count": 18,
     "metadata": {},
     "output_type": "execute_result"
    }
   ],
   "source": [
    "model.fit(train_features_tensor, train_targets_tensor, epochs=10, batch_size=10)"
   ]
  },
  {
   "cell_type": "code",
   "execution_count": 19,
   "id": "0ad12f40",
   "metadata": {
    "execution": {
     "iopub.execute_input": "2022-11-19T02:08:57.519721Z",
     "iopub.status.busy": "2022-11-19T02:08:57.519289Z",
     "iopub.status.idle": "2022-11-19T02:08:57.527331Z",
     "shell.execute_reply": "2022-11-19T02:08:57.525913Z"
    },
    "papermill": {
     "duration": 0.021757,
     "end_time": "2022-11-19T02:08:57.529773",
     "exception": false,
     "start_time": "2022-11-19T02:08:57.508016",
     "status": "completed"
    },
    "tags": []
   },
   "outputs": [
    {
     "data": {
      "text/plain": [
       "(90, 14)"
      ]
     },
     "execution_count": 19,
     "metadata": {},
     "output_type": "execute_result"
    }
   ],
   "source": [
    "train_features.shape"
   ]
  },
  {
   "cell_type": "code",
   "execution_count": 20,
   "id": "9d154981",
   "metadata": {
    "execution": {
     "iopub.execute_input": "2022-11-19T02:08:57.550889Z",
     "iopub.status.busy": "2022-11-19T02:08:57.550401Z",
     "iopub.status.idle": "2022-11-19T02:08:57.568993Z",
     "shell.execute_reply": "2022-11-19T02:08:57.567746Z"
    },
    "papermill": {
     "duration": 0.032348,
     "end_time": "2022-11-19T02:08:57.571563",
     "exception": false,
     "start_time": "2022-11-19T02:08:57.539215",
     "status": "completed"
    },
    "tags": []
   },
   "outputs": [
    {
     "data": {
      "text/plain": [
       "<bound method NDFrame.describe of     case  site  age    hdlngth     skullw  totlngth  taill   footlgth  \\\n",
       "66  67.0   5.0  4.0  93.300003  57.599998      85.0   36.5  64.699997   \n",
       "38  39.0   2.0  1.0  84.699997  51.500000      75.0   34.0  68.699997   \n",
       "89  90.0   7.0  3.0  92.599998  54.599998      85.0   38.5  69.800003   \n",
       "79  80.0   6.0  1.0  86.699997  52.599998      84.0   38.0  62.299999   \n",
       "22  23.0   1.0  4.0  92.500000  56.099998      89.0   36.0  72.800003   \n",
       "..   ...   ...  ...        ...        ...       ...    ...        ...   \n",
       "34  35.0   2.0  4.0  94.400002  57.900002      85.0   35.5  71.199997   \n",
       "33  34.0   2.0  2.0  90.599998  55.700001      85.5   36.5  73.099998   \n",
       "69  70.0   5.0  7.0  91.900002  56.400002      87.0   38.0  65.400002   \n",
       "32  33.0   1.0  3.0  91.400002  54.599998      89.0   37.0  70.800003   \n",
       "53  54.0   4.0  7.0  96.900002  63.000000      91.5   43.0  71.300003   \n",
       "\n",
       "     earconch   eye  chest  belly  Pop_Vic  Pop_other  \n",
       "66  44.099998  16.5   27.5   29.5      0.0        1.0  \n",
       "38  53.400002  13.0   25.0   25.0      1.0        0.0  \n",
       "89  44.799999  14.5   25.5   32.5      0.0        1.0  \n",
       "79  44.799999  15.0   23.5   30.5      0.0        1.0  \n",
       "22  53.299999  15.4   28.0   35.0      1.0        0.0  \n",
       "..        ...   ...    ...    ...      ...        ...  \n",
       "34  55.500000  16.4   28.0   35.5      1.0        0.0  \n",
       "33  53.099998  14.4   26.0   28.5      1.0        0.0  \n",
       "69  44.099998  13.0   27.0   34.0      0.0        1.0  \n",
       "32  51.799999  14.8   24.0   30.0      1.0        0.0  \n",
       "53  46.000000  17.5   30.0   36.5      0.0        1.0  \n",
       "\n",
       "[90 rows x 14 columns]>"
      ]
     },
     "execution_count": 20,
     "metadata": {},
     "output_type": "execute_result"
    }
   ],
   "source": [
    "train_features.describe"
   ]
  },
  {
   "cell_type": "code",
   "execution_count": null,
   "id": "62531505",
   "metadata": {
    "papermill": {
     "duration": 0.009333,
     "end_time": "2022-11-19T02:08:57.590246",
     "exception": false,
     "start_time": "2022-11-19T02:08:57.580913",
     "status": "completed"
    },
    "tags": []
   },
   "outputs": [],
   "source": []
  }
 ],
 "metadata": {
  "kernelspec": {
   "display_name": "Python 3",
   "language": "python",
   "name": "python3"
  },
  "language_info": {
   "codemirror_mode": {
    "name": "ipython",
    "version": 3
   },
   "file_extension": ".py",
   "mimetype": "text/x-python",
   "name": "python",
   "nbconvert_exporter": "python",
   "pygments_lexer": "ipython3",
   "version": "3.7.12"
  },
  "papermill": {
   "default_parameters": {},
   "duration": 23.260173,
   "end_time": "2022-11-19T02:09:00.832555",
   "environment_variables": {},
   "exception": null,
   "input_path": "__notebook__.ipynb",
   "output_path": "__notebook__.ipynb",
   "parameters": {},
   "start_time": "2022-11-19T02:08:37.572382",
   "version": "2.3.4"
  }
 },
 "nbformat": 4,
 "nbformat_minor": 5
}
